{
 "cells": [
  {
   "cell_type": "code",
   "execution_count": 389,
   "metadata": {},
   "outputs": [],
   "source": [
    "import numpy as np\n",
    "import pandas as pd\n",
    "import seaborn as sns\n",
    "import matplotlib.pyplot as plt\n",
    "plt.style.use('ggplot')\n",
    "import re\n"
   ]
  },
  {
   "cell_type": "markdown",
   "metadata": {},
   "source": [
    "### Load the 'business' dataset"
   ]
  },
  {
   "cell_type": "code",
   "execution_count": 2,
   "metadata": {},
   "outputs": [],
   "source": [
    "df2 = pd.read_json(\"yelp_academic_dataset_business.json\", chunksize = 1000, lines = True)\n",
    "drop_cols = ['address', 'state', 'postal_code', 'latitude', 'longitude', 'stars', 'review_count', 'is_open','attributes', 'hours']"
   ]
  },
  {
   "cell_type": "markdown",
   "metadata": {},
   "source": [
    "* Deleting non useful columns"
   ]
  },
  {
   "cell_type": "code",
   "execution_count": 3,
   "metadata": {},
   "outputs": [],
   "source": [
    "import time\n",
    "start = time.time()\n",
    "chunks = []\n",
    "a = 0\n",
    "for chunk in df2:\n",
    "    a += 1\n",
    "    chunk_b = chunk.drop(drop_cols, axis = 1)\n",
    "    restas = chunk_b[chunk_b['categories'].str.contains('restaurant', case = False, na = False)]\n",
    "    chunks.append(restas)\n",
    "restaurants = pd.concat(chunks, ignore_index= True, join='outer')\n",
    "end = time.time()\n",
    "elapsed = end-start"
   ]
  },
  {
   "cell_type": "code",
   "execution_count": 4,
   "metadata": {},
   "outputs": [
    {
     "data": {
      "text/plain": [
       "(63961, 4)"
      ]
     },
     "execution_count": 4,
     "metadata": {},
     "output_type": "execute_result"
    }
   ],
   "source": [
    "restaurants.shape"
   ]
  },
  {
   "cell_type": "markdown",
   "metadata": {},
   "source": [
    "## Load the reviews dataset\n",
    "* Remember we made the merge to use ONLY restaurants data, because there were data from other things"
   ]
  },
  {
   "cell_type": "code",
   "execution_count": 5,
   "metadata": {},
   "outputs": [],
   "source": [
    "reviews_raw = pd.read_json(\"yelp_academic_dataset_review.json\", chunksize=100000, lines = True)\n",
    "drop_cols = ['review_id', 'user_id','useful', 'funny', 'cool', 'date']"
   ]
  },
  {
   "cell_type": "markdown",
   "metadata": {},
   "source": [
    "* Using merge instead of join because we want to join in another column other than the index"
   ]
  },
  {
   "cell_type": "code",
   "execution_count": 6,
   "metadata": {},
   "outputs": [],
   "source": [
    "a = 0\n",
    "for chunk in reviews_raw:\n",
    "    a += 1\n",
    "    reviews = chunk.drop(drop_cols, axis = 1)\n",
    "    data = restaurants.merge(reviews, left_on = 'business_id', right_on = 'business_id',how = 'inner')\n",
    "    if a == 1:\n",
    "        break"
   ]
  },
  {
   "cell_type": "markdown",
   "metadata": {},
   "source": [
    "### Finally the data to be preprocessed (the \"text\" column, to be exact) \n",
    "TBD:\n",
    "* Delete all number 3 i.e neutral \n",
    "* Same number of positive as negatives\n",
    "* Shuffle the data"
   ]
  },
  {
   "cell_type": "code",
   "execution_count": 7,
   "metadata": {},
   "outputs": [
    {
     "data": {
      "text/html": [
       "<div>\n",
       "<style scoped>\n",
       "    .dataframe tbody tr th:only-of-type {\n",
       "        vertical-align: middle;\n",
       "    }\n",
       "\n",
       "    .dataframe tbody tr th {\n",
       "        vertical-align: top;\n",
       "    }\n",
       "\n",
       "    .dataframe thead th {\n",
       "        text-align: right;\n",
       "    }\n",
       "</style>\n",
       "<table border=\"1\" class=\"dataframe\">\n",
       "  <thead>\n",
       "    <tr style=\"text-align: right;\">\n",
       "      <th></th>\n",
       "      <th>business_id</th>\n",
       "      <th>name</th>\n",
       "      <th>city</th>\n",
       "      <th>categories</th>\n",
       "      <th>stars</th>\n",
       "      <th>text</th>\n",
       "    </tr>\n",
       "  </thead>\n",
       "  <tbody>\n",
       "    <tr>\n",
       "      <th>0</th>\n",
       "      <td>pQeaRpvuhoEqudo3uymHIQ</td>\n",
       "      <td>The Empanadas House</td>\n",
       "      <td>Champaign</td>\n",
       "      <td>Ethnic Food, Food Trucks, Specialty Food, Impo...</td>\n",
       "      <td>5</td>\n",
       "      <td>I love the empanadas from the Empanadas House!...</td>\n",
       "    </tr>\n",
       "    <tr>\n",
       "      <th>1</th>\n",
       "      <td>CsLQLiRoafpJPJSkNX2h5Q</td>\n",
       "      <td>Middle East Deli</td>\n",
       "      <td>Charlotte</td>\n",
       "      <td>Food, Restaurants, Grocery, Middle Eastern</td>\n",
       "      <td>3</td>\n",
       "      <td>Definitely under new management, and the dinin...</td>\n",
       "    </tr>\n",
       "    <tr>\n",
       "      <th>2</th>\n",
       "      <td>CsLQLiRoafpJPJSkNX2h5Q</td>\n",
       "      <td>Middle East Deli</td>\n",
       "      <td>Charlotte</td>\n",
       "      <td>Food, Restaurants, Grocery, Middle Eastern</td>\n",
       "      <td>3</td>\n",
       "      <td>I will also agree that this place has great fo...</td>\n",
       "    </tr>\n",
       "    <tr>\n",
       "      <th>3</th>\n",
       "      <td>lu7vtrp_bE9PnxWfA8g4Pg</td>\n",
       "      <td>Banzai Sushi</td>\n",
       "      <td>Thornhill</td>\n",
       "      <td>Japanese, Fast Food, Food Court, Restaurants</td>\n",
       "      <td>4</td>\n",
       "      <td>Been coming here since I was in grade 9 so abo...</td>\n",
       "    </tr>\n",
       "    <tr>\n",
       "      <th>4</th>\n",
       "      <td>vjTVxnsQEZ34XjYNS-XUpA</td>\n",
       "      <td>Wetzel's Pretzels</td>\n",
       "      <td>Phoenix</td>\n",
       "      <td>Food, Pretzels, Bakeries, Fast Food, Restaurants</td>\n",
       "      <td>5</td>\n",
       "      <td>Love Wetzel's pretzels! I always get them when...</td>\n",
       "    </tr>\n",
       "  </tbody>\n",
       "</table>\n",
       "</div>"
      ],
      "text/plain": [
       "              business_id                 name       city  \\\n",
       "0  pQeaRpvuhoEqudo3uymHIQ  The Empanadas House  Champaign   \n",
       "1  CsLQLiRoafpJPJSkNX2h5Q     Middle East Deli  Charlotte   \n",
       "2  CsLQLiRoafpJPJSkNX2h5Q     Middle East Deli  Charlotte   \n",
       "3  lu7vtrp_bE9PnxWfA8g4Pg         Banzai Sushi  Thornhill   \n",
       "4  vjTVxnsQEZ34XjYNS-XUpA    Wetzel's Pretzels    Phoenix   \n",
       "\n",
       "                                          categories  stars  \\\n",
       "0  Ethnic Food, Food Trucks, Specialty Food, Impo...      5   \n",
       "1         Food, Restaurants, Grocery, Middle Eastern      3   \n",
       "2         Food, Restaurants, Grocery, Middle Eastern      3   \n",
       "3       Japanese, Fast Food, Food Court, Restaurants      4   \n",
       "4   Food, Pretzels, Bakeries, Fast Food, Restaurants      5   \n",
       "\n",
       "                                                text  \n",
       "0  I love the empanadas from the Empanadas House!...  \n",
       "1  Definitely under new management, and the dinin...  \n",
       "2  I will also agree that this place has great fo...  \n",
       "3  Been coming here since I was in grade 9 so abo...  \n",
       "4  Love Wetzel's pretzels! I always get them when...  "
      ]
     },
     "execution_count": 7,
     "metadata": {},
     "output_type": "execute_result"
    }
   ],
   "source": [
    "data.head()"
   ]
  },
  {
   "cell_type": "markdown",
   "metadata": {},
   "source": [
    "## Get a toyset to work in trials from here"
   ]
  },
  {
   "cell_type": "code",
   "execution_count": 91,
   "metadata": {},
   "outputs": [
    {
     "data": {
      "text/html": [
       "<div>\n",
       "<style scoped>\n",
       "    .dataframe tbody tr th:only-of-type {\n",
       "        vertical-align: middle;\n",
       "    }\n",
       "\n",
       "    .dataframe tbody tr th {\n",
       "        vertical-align: top;\n",
       "    }\n",
       "\n",
       "    .dataframe thead th {\n",
       "        text-align: right;\n",
       "    }\n",
       "</style>\n",
       "<table border=\"1\" class=\"dataframe\">\n",
       "  <thead>\n",
       "    <tr style=\"text-align: right;\">\n",
       "      <th></th>\n",
       "      <th>name</th>\n",
       "      <th>stars</th>\n",
       "      <th>text</th>\n",
       "    </tr>\n",
       "  </thead>\n",
       "  <tbody>\n",
       "    <tr>\n",
       "      <th>0</th>\n",
       "      <td>The Empanadas House</td>\n",
       "      <td>5</td>\n",
       "      <td>I love the empanadas from the Empanadas House!...</td>\n",
       "    </tr>\n",
       "    <tr>\n",
       "      <th>1</th>\n",
       "      <td>Middle East Deli</td>\n",
       "      <td>3</td>\n",
       "      <td>Definitely under new management, and the dinin...</td>\n",
       "    </tr>\n",
       "    <tr>\n",
       "      <th>2</th>\n",
       "      <td>Middle East Deli</td>\n",
       "      <td>3</td>\n",
       "      <td>I will also agree that this place has great fo...</td>\n",
       "    </tr>\n",
       "    <tr>\n",
       "      <th>3</th>\n",
       "      <td>Banzai Sushi</td>\n",
       "      <td>4</td>\n",
       "      <td>Been coming here since I was in grade 9 so abo...</td>\n",
       "    </tr>\n",
       "    <tr>\n",
       "      <th>4</th>\n",
       "      <td>Wetzel's Pretzels</td>\n",
       "      <td>5</td>\n",
       "      <td>Love Wetzel's pretzels! I always get them when...</td>\n",
       "    </tr>\n",
       "  </tbody>\n",
       "</table>\n",
       "</div>"
      ],
      "text/plain": [
       "                  name  stars  \\\n",
       "0  The Empanadas House      5   \n",
       "1     Middle East Deli      3   \n",
       "2     Middle East Deli      3   \n",
       "3         Banzai Sushi      4   \n",
       "4    Wetzel's Pretzels      5   \n",
       "\n",
       "                                                text  \n",
       "0  I love the empanadas from the Empanadas House!...  \n",
       "1  Definitely under new management, and the dinin...  \n",
       "2  I will also agree that this place has great fo...  \n",
       "3  Been coming here since I was in grade 9 so abo...  \n",
       "4  Love Wetzel's pretzels! I always get them when...  "
      ]
     },
     "execution_count": 91,
     "metadata": {},
     "output_type": "execute_result"
    }
   ],
   "source": [
    "data2 = data.loc[0:99, ['name', 'stars', 'text']]\n",
    "data2.head()"
   ]
  },
  {
   "cell_type": "markdown",
   "metadata": {},
   "source": [
    "* Some graphs to know the number of reviews by ranking"
   ]
  },
  {
   "cell_type": "code",
   "execution_count": 143,
   "metadata": {},
   "outputs": [
    {
     "data": {
      "text/plain": [
       "<matplotlib.axes._subplots.AxesSubplot at 0x1a201d2fd0>"
      ]
     },
     "execution_count": 143,
     "metadata": {},
     "output_type": "execute_result"
    },
    {
     "data": {
      "image/png": "[encoded data removed]",
      "text/plain": [
       "<Figure size 432x288 with 1 Axes>"
      ]
     },
     "metadata": {},
     "output_type": "display_data"
    }
   ],
   "source": [
    "bars = data3['stars'].value_counts()\n",
    "sns.barplot(x = bars.index, y = bars)"
   ]
  },
  {
   "cell_type": "markdown",
   "metadata": {},
   "source": [
    "* Delete the number 3's"
   ]
  },
  {
   "cell_type": "code",
   "execution_count": 90,
   "metadata": {
    "scrolled": false
   },
   "outputs": [
    {
     "data": {
      "text/plain": [
       "(85, 3)"
      ]
     },
     "execution_count": 90,
     "metadata": {},
     "output_type": "execute_result"
    }
   ],
   "source": [
    "data2.drop(data2[data2['stars'] == 3].index, inplace = True)\n",
    "data2 = data2.reset_index(drop = True)\n",
    "data2"
   ]
  },
  {
   "cell_type": "markdown",
   "metadata": {},
   "source": [
    "* We want just the reviews with 4-5 to be positive and the 1-2 to be negative, we do that on the following"
   ]
  },
  {
   "cell_type": "code",
   "execution_count": 11,
   "metadata": {},
   "outputs": [],
   "source": [
    "data2['Sentiment'] = data2['stars'].apply(lambda x: 1 if x > 3 else 0)"
   ]
  },
  {
   "cell_type": "markdown",
   "metadata": {},
   "source": [
    "### Use \"3\" as negative to augment the data and  balance the classes\n",
    "One could argue that the reviews that have not unconditionally positive"
   ]
  },
  {
   "cell_type": "code",
   "execution_count": 146,
   "metadata": {},
   "outputs": [],
   "source": [
    "data3 = data2.copy()\n",
    "neg_half = list((data3[data3['stars'] <=3]).index)\n",
    "pos_half = list(set(range(data3.shape[0])) - set(neg_half))\n",
    "pos_half = pos_half[0:len(neg_half)]\n",
    "pos_half.extend(neg_half)\n",
    "dropper = list(set(range(data3.shape[0])) - set(pos_half))\n",
    "data3.drop(index = dropper, inplace = True)\n",
    "data3['Sentiment'] = data3['stars'].apply(lambda x: 1 if x > 3 else 0)"
   ]
  },
  {
   "cell_type": "code",
   "execution_count": 148,
   "metadata": {},
   "outputs": [],
   "source": [
    "data3['Sentiment'].value_counts()\n",
    "data2 = data3.copy()"
   ]
  },
  {
   "cell_type": "markdown",
   "metadata": {},
   "source": [
    "## From here start the NLP pipeline"
   ]
  },
  {
   "cell_type": "markdown",
   "metadata": {},
   "source": [
    "The goal here is to make a bag of words, it can be done manually, but also with sklearn.\n",
    "\n",
    "**Steps:** I am trying to extract the nest tokens with the tokenizer from Potts and then feed that already \"clean tokens\" to the vectorizer"
   ]
  },
  {
   "cell_type": "code",
   "execution_count": 149,
   "metadata": {},
   "outputs": [],
   "source": [
    "raw = data2['text'][1:3]\n",
    "raw\n",
    "raw2 = data2['text'][1]"
   ]
  },
  {
   "cell_type": "code",
   "execution_count": 150,
   "metadata": {},
   "outputs": [],
   "source": [
    "from nltk.probability import FreqDist\n",
    "counter = FreqDist()"
   ]
  },
  {
   "cell_type": "code",
   "execution_count": 151,
   "metadata": {},
   "outputs": [
    {
     "data": {
      "text/plain": [
       "98"
      ]
     },
     "execution_count": 151,
     "metadata": {},
     "output_type": "execute_result"
    }
   ],
   "source": [
    "tokenizer = []\n",
    "a = 0\n",
    "for i in raw2:\n",
    "    words = i.lower()\n",
    "    words = words.split()\n",
    "    for word in words:\n",
    "        a += 1\n",
    "        counter[word] += 1\n",
    "        if word not in tokenizer:\n",
    "            tokenizer.append(word)\n",
    "len(tokenizer)\n",
    "tokenizer\n",
    "words = raw2.split()\n",
    "for word in words:\n",
    "    a += 1\n",
    "len(words)"
   ]
  },
  {
   "cell_type": "markdown",
   "metadata": {},
   "source": [
    "### For the negation tagging, put the negation until ^[.:;!?]$ (until the punctuation mark)"
   ]
  },
  {
   "cell_type": "code",
   "execution_count": 152,
   "metadata": {},
   "outputs": [],
   "source": [
    "from nltk.corpus import stopwords\n",
    "from nltk.tokenize import word_tokenize"
   ]
  },
  {
   "cell_type": "code",
   "execution_count": 153,
   "metadata": {},
   "outputs": [
    {
     "data": {
      "text/plain": [
       "5"
      ]
     },
     "execution_count": 153,
     "metadata": {},
     "output_type": "execute_result"
    }
   ],
   "source": [
    "#out of the box tokenizer and counter\n",
    "from nltk.probability import FreqDist\n",
    "counter = FreqDist()\n",
    "tokens_nltk = word_tokenize(raw2)\n",
    "\n",
    "tokenizer = []\n",
    "for word in tokens_nltk:\n",
    "    counter[word.lower()] += 1\n",
    "\n",
    "len(tokens_nltk)\n",
    "len(counter)\n",
    "counter['the']"
   ]
  },
  {
   "cell_type": "code",
   "execution_count": 154,
   "metadata": {},
   "outputs": [
    {
     "data": {
      "text/plain": [
       "[(',', 12),\n",
       " ('.', 6),\n",
       " ('and', 5),\n",
       " ('the', 5),\n",
       " ('has', 4),\n",
       " ('a', 3),\n",
       " ('that', 3),\n",
       " (\"'s\", 2),\n",
       " ('some', 2),\n",
       " ('have', 2),\n",
       " ('on', 2),\n",
       " ('definitely', 1),\n",
       " ('under', 1),\n",
       " ('new', 1),\n",
       " ('management', 1),\n",
       " ('dining', 1),\n",
       " ('area', 1),\n",
       " ('been', 1),\n",
       " ('totally', 1),\n",
       " ('redone', 1)]"
      ]
     },
     "execution_count": 154,
     "metadata": {},
     "output_type": "execute_result"
    }
   ],
   "source": [
    "counter.B() #is the number of unique words (?)\n",
    "x = counter.N #is the number of words\n",
    "counter.most_common(20)"
   ]
  },
  {
   "cell_type": "code",
   "execution_count": 155,
   "metadata": {},
   "outputs": [],
   "source": [
    "stop = set(stopwords.words(\"english\"))"
   ]
  },
  {
   "cell_type": "markdown",
   "metadata": {},
   "source": [
    "TBD:\n",
    "### Check the paper that is mentioned in notion by UCLondon\n",
    "\n",
    "* Delete all the reviews that are not in english\n",
    "* Same number of negative that as positive reviews for the sets\n",
    "* Tokenization and BoW creation (**BoW with frequency or with presence?**)\n",
    "* unigrams and bigrams\n",
    "* lower the case\n",
    "* POS tagging?\n",
    "* EDA como en potts con las palabras mas frecuentes en positives and negatives reviews\n",
    "* Handling negation? _NOT or with sentiment negative scoring?\n",
    "* See the book by Bing Lui for how to identify fake news, resonates with anomaly detection and identifying if a review is fake"
   ]
  },
  {
   "cell_type": "code",
   "execution_count": 156,
   "metadata": {},
   "outputs": [
    {
     "name": "stdout",
     "output_type": "stream",
     "text": [
      "['123456789', '987654321', '987654321']\n"
     ]
    },
    {
     "data": {
      "text/plain": [
       "\"Definitely under new management, and the dining area has been totally redone. Big, comfy chairs, dangling bistro lighting, it's somewhat comfier.\\n\\nThe menu has changed quite a bit - this learns more towards Turkish than anything else, and has some interesting options for you meaters. Veg fare hasn't budged, and neither have the prices, but the quality and portion size have improved some. Falafel now comes with a smidge of hummus on the side, which is a nice touch.\\n\\nEveryone that waited on me was very tall, female, and beautiful, in that awesome Mediterranean way, so there's that.\""
      ]
     },
     "execution_count": 156,
     "metadata": {},
     "output_type": "execute_result"
    }
   ],
   "source": [
    "string = \"\"\"Hello my Number is 123456789 and  \n",
    "             my friend's number is 987654321, and my number is also 987654321\"\"\"\n",
    "    \n",
    "# A sample regular expression to find digits.  \n",
    "regex = '\\d+'             \n",
    "    \n",
    "match = re.findall(regex, string)  \n",
    "print(match)\n",
    "raw2"
   ]
  },
  {
   "cell_type": "markdown",
   "metadata": {},
   "source": [
    "## Negation tagging Function"
   ]
  },
  {
   "cell_type": "code",
   "execution_count": 157,
   "metadata": {},
   "outputs": [],
   "source": [
    "def pesimist(text):\n",
    "    x = text\n",
    "    x = x.split()\n",
    "    hasta = 0\n",
    "    desde = 0\n",
    "    c = 0\n",
    "    j = 0\n",
    "    passer = False\n",
    "    for k in range(len(x)):\n",
    "        #print(j)\n",
    "        #print(k)\n",
    "        #if not passer:\n",
    "            #continue\n",
    "        passer = True\n",
    "\n",
    "        i = x[k]\n",
    "        negation_string = r\"\"\"\n",
    "        ^(?:never|no|nothing|nowhere|noone|none|not|\n",
    "            havent|hasnt|hadnt|cant|couldnt|shouldnt|\n",
    "            wont|wouldnt|but|doesnt|didnt|isnt|arent|aint\n",
    "        )$|n't\n",
    "        \"\"\"\n",
    "        #print(\"first\")\n",
    "        c +=1\n",
    "        #match = re.search(r'\\bthe\\b',i)\n",
    "        neg = re.compile(negation_string, re.VERBOSE | re.I | re.UNICODE)\n",
    "        match = neg.findall(i)\n",
    "        #print(i + \"i\")\n",
    "        #print('desde', desde)\n",
    "        #print(f'hasta menos desde es: {hasta - desde} y c es {c}')\n",
    "        if c < (hasta - desde):\n",
    "            continue\n",
    "        if match:\n",
    "            c = 0\n",
    "            desde = k + 1\n",
    "            #print(c - 1)\n",
    "            #j = i\n",
    "            jump = k\n",
    "            for j in range(jump, 100):\n",
    "\n",
    "                #print(j)\n",
    "                try:\n",
    "                    comma = re.search(r'[.:;!?]', x[j])\n",
    "                    #print(\"second\")\n",
    "                    if comma:\n",
    "                        hasta = j + 1\n",
    "                        c += 1\n",
    "                        \n",
    "                        #this try to avoid error if there is no punctuation error before the phrase ends\n",
    "                        try:\n",
    "                            for i in range(desde, hasta):\n",
    "                                repl = re.match(r'\\w+', x[i])\n",
    "                                x[i] = repl.group() + \"_NOT\"\n",
    "                            \n",
    "                            c = 0\n",
    "                            break\n",
    "                        except:\n",
    "                            #print(' '.join(x))\n",
    "                            c = 0\n",
    "                            break\n",
    "                except:\n",
    "                    pass\n",
    "        if match:\n",
    "            continue\n",
    "\n",
    "\n",
    "\n",
    "                #continue\n",
    "\n",
    "\n",
    "            #else:\n",
    "                #continue\n",
    "            #break\n",
    "    xx = ' '.join(x)\n",
    "    return xx"
   ]
  },
  {
   "cell_type": "markdown",
   "metadata": {},
   "source": [
    "## Finally the negation tagging is working, next steps:\n",
    "    1. Identify all the negation words on the regular expresion, can be taken from one paper.\n",
    "    2. Implement it i conjuction with the tokenizer and the stop words removal\n",
    "    3. run it for all the dataset\n",
    "    4. Balance the positive and negative classes on the data set that we are going to take to make all the trials.\n",
    "    5. Finish the identification of features\n",
    "    6. "
   ]
  },
  {
   "cell_type": "markdown",
   "metadata": {},
   "source": [
    "## Current status\n",
    "\n",
    "order of the pipeline (in **bold** what is already done)\n",
    "\n",
    "(balance the sample 50/50 in reviews)\n",
    "1. **Negator**\n",
    "2. **Tokenizer**\n",
    "3. Stop words removal (kind of done, have to figure it out)\n",
    "3. BoW\n"
   ]
  },
  {
   "cell_type": "markdown",
   "metadata": {},
   "source": [
    "## Negation tagging"
   ]
  },
  {
   "cell_type": "code",
   "execution_count": 158,
   "metadata": {
    "scrolled": false
   },
   "outputs": [],
   "source": [
    "trial = data2.copy()"
   ]
  },
  {
   "cell_type": "code",
   "execution_count": 159,
   "metadata": {},
   "outputs": [],
   "source": [
    "#Apply the function of negation taggin to each row\n",
    "trial[\"sample\"] = trial.loc[:, \"text\"].apply(pesimist)"
   ]
  },
  {
   "cell_type": "code",
   "execution_count": 160,
   "metadata": {},
   "outputs": [
    {
     "data": {
      "text/html": [
       "<div>\n",
       "<style scoped>\n",
       "    .dataframe tbody tr th:only-of-type {\n",
       "        vertical-align: middle;\n",
       "    }\n",
       "\n",
       "    .dataframe tbody tr th {\n",
       "        vertical-align: top;\n",
       "    }\n",
       "\n",
       "    .dataframe thead th {\n",
       "        text-align: right;\n",
       "    }\n",
       "</style>\n",
       "<table border=\"1\" class=\"dataframe\">\n",
       "  <thead>\n",
       "    <tr style=\"text-align: right;\">\n",
       "      <th></th>\n",
       "      <th>name</th>\n",
       "      <th>stars</th>\n",
       "      <th>text</th>\n",
       "      <th>Sentiment</th>\n",
       "      <th>sample</th>\n",
       "    </tr>\n",
       "  </thead>\n",
       "  <tbody>\n",
       "    <tr>\n",
       "      <th>0</th>\n",
       "      <td>The Empanadas House</td>\n",
       "      <td>5</td>\n",
       "      <td>I love the empanadas from the Empanadas House!...</td>\n",
       "      <td>1</td>\n",
       "      <td>I love the empanadas from the Empanadas House!...</td>\n",
       "    </tr>\n",
       "    <tr>\n",
       "      <th>1</th>\n",
       "      <td>Middle East Deli</td>\n",
       "      <td>3</td>\n",
       "      <td>Definitely under new management, and the dinin...</td>\n",
       "      <td>0</td>\n",
       "      <td>Definitely under new management, and the dinin...</td>\n",
       "    </tr>\n",
       "    <tr>\n",
       "      <th>2</th>\n",
       "      <td>Middle East Deli</td>\n",
       "      <td>3</td>\n",
       "      <td>I will also agree that this place has great fo...</td>\n",
       "      <td>0</td>\n",
       "      <td>I will also agree that this place has great fo...</td>\n",
       "    </tr>\n",
       "    <tr>\n",
       "      <th>3</th>\n",
       "      <td>Banzai Sushi</td>\n",
       "      <td>4</td>\n",
       "      <td>Been coming here since I was in grade 9 so abo...</td>\n",
       "      <td>1</td>\n",
       "      <td>Been coming here since I was in grade 9 so abo...</td>\n",
       "    </tr>\n",
       "    <tr>\n",
       "      <th>4</th>\n",
       "      <td>Wetzel's Pretzels</td>\n",
       "      <td>5</td>\n",
       "      <td>Love Wetzel's pretzels! I always get them when...</td>\n",
       "      <td>1</td>\n",
       "      <td>Love Wetzel's pretzels! I always get them when...</td>\n",
       "    </tr>\n",
       "  </tbody>\n",
       "</table>\n",
       "</div>"
      ],
      "text/plain": [
       "                  name  stars  \\\n",
       "0  The Empanadas House      5   \n",
       "1     Middle East Deli      3   \n",
       "2     Middle East Deli      3   \n",
       "3         Banzai Sushi      4   \n",
       "4    Wetzel's Pretzels      5   \n",
       "\n",
       "                                                text  Sentiment  \\\n",
       "0  I love the empanadas from the Empanadas House!...          1   \n",
       "1  Definitely under new management, and the dinin...          0   \n",
       "2  I will also agree that this place has great fo...          0   \n",
       "3  Been coming here since I was in grade 9 so abo...          1   \n",
       "4  Love Wetzel's pretzels! I always get them when...          1   \n",
       "\n",
       "                                              sample  \n",
       "0  I love the empanadas from the Empanadas House!...  \n",
       "1  Definitely under new management, and the dinin...  \n",
       "2  I will also agree that this place has great fo...  \n",
       "3  Been coming here since I was in grade 9 so abo...  \n",
       "4  Love Wetzel's pretzels! I always get them when...  "
      ]
     },
     "execution_count": 160,
     "metadata": {},
     "output_type": "execute_result"
    }
   ],
   "source": [
    "trial.head()"
   ]
  },
  {
   "cell_type": "markdown",
   "metadata": {},
   "source": [
    "## Tokenizer\n"
   ]
  },
  {
   "cell_type": "code",
   "execution_count": 161,
   "metadata": {},
   "outputs": [],
   "source": [
    "from Utils.happyfuntokenizing import Tokenizer"
   ]
  },
  {
   "cell_type": "code",
   "execution_count": 162,
   "metadata": {},
   "outputs": [],
   "source": [
    "tok = Tokenizer()"
   ]
  },
  {
   "cell_type": "code",
   "execution_count": 163,
   "metadata": {},
   "outputs": [],
   "source": [
    "token = tok.tokenize(raw2)"
   ]
  },
  {
   "cell_type": "code",
   "execution_count": 164,
   "metadata": {
    "collapsed": true
   },
   "outputs": [
    {
     "data": {
      "text/plain": [
       "['definitely',\n",
       " 'under',\n",
       " 'new',\n",
       " 'management',\n",
       " 'and',\n",
       " 'the',\n",
       " 'dining',\n",
       " 'area',\n",
       " 'has',\n",
       " 'been',\n",
       " 'totally',\n",
       " 'redone',\n",
       " 'big',\n",
       " 'comfy',\n",
       " 'chairs',\n",
       " 'dangling',\n",
       " 'bistro',\n",
       " 'lighting',\n",
       " \"it's\",\n",
       " 'somewhat',\n",
       " 'comfier',\n",
       " 'the',\n",
       " 'menu',\n",
       " 'has',\n",
       " 'changed',\n",
       " 'quite',\n",
       " 'a',\n",
       " 'bit',\n",
       " 'this',\n",
       " 'learns',\n",
       " 'more',\n",
       " 'towards',\n",
       " 'turkish',\n",
       " 'than',\n",
       " 'anything',\n",
       " 'else',\n",
       " 'and',\n",
       " 'has',\n",
       " 'some',\n",
       " 'interesting',\n",
       " 'options',\n",
       " 'for',\n",
       " 'you',\n",
       " 'meaters',\n",
       " 'veg',\n",
       " 'fare',\n",
       " \"hasn't\",\n",
       " 'budged',\n",
       " 'and',\n",
       " 'neither',\n",
       " 'have',\n",
       " 'the',\n",
       " 'prices',\n",
       " 'but',\n",
       " 'the',\n",
       " 'quality',\n",
       " 'and',\n",
       " 'portion',\n",
       " 'size',\n",
       " 'have',\n",
       " 'improved',\n",
       " 'some',\n",
       " 'falafel',\n",
       " 'now',\n",
       " 'comes',\n",
       " 'with',\n",
       " 'a',\n",
       " 'smidge',\n",
       " 'of',\n",
       " 'hummus',\n",
       " 'on',\n",
       " 'the',\n",
       " 'side',\n",
       " 'which',\n",
       " 'is',\n",
       " 'a',\n",
       " 'nice',\n",
       " 'touch',\n",
       " 'everyone',\n",
       " 'that',\n",
       " 'waited',\n",
       " 'on',\n",
       " 'me',\n",
       " 'was',\n",
       " 'very',\n",
       " 'tall',\n",
       " 'female',\n",
       " 'and',\n",
       " 'beautiful',\n",
       " 'in',\n",
       " 'that',\n",
       " 'awesome',\n",
       " 'mediterranean',\n",
       " 'way',\n",
       " 'so',\n",
       " \"there's\",\n",
       " 'that']"
      ]
     },
     "execution_count": 164,
     "metadata": {},
     "output_type": "execute_result"
    }
   ],
   "source": [
    "token"
   ]
  },
  {
   "cell_type": "code",
   "execution_count": 331,
   "metadata": {},
   "outputs": [
    {
     "data": {
      "text/plain": [
       "{'preserve_case': False, 'all_in': False}"
      ]
     },
     "execution_count": 331,
     "metadata": {},
     "output_type": "execute_result"
    }
   ],
   "source": [
    "tok = Tokenizer()\n",
    "tok.__dict__"
   ]
  },
  {
   "cell_type": "code",
   "execution_count": 342,
   "metadata": {},
   "outputs": [],
   "source": [
    "trial[\"tokens\"] = trial.loc[:, \"sample\"].apply(tok.tokenize)\n",
    "trial.reset_index(inplace = True)"
   ]
  },
  {
   "cell_type": "code",
   "execution_count": 339,
   "metadata": {},
   "outputs": [
    {
     "data": {
      "text/plain": [
       "1    44\n",
       "0    44\n",
       "Name: Sentiment, dtype: int64"
      ]
     },
     "execution_count": 339,
     "metadata": {},
     "output_type": "execute_result"
    }
   ],
   "source": [
    "trial[\"Sentiment\"].value_counts()"
   ]
  },
  {
   "cell_type": "code",
   "execution_count": 343,
   "metadata": {},
   "outputs": [
    {
     "data": {
      "text/html": [
       "<div>\n",
       "<style scoped>\n",
       "    .dataframe tbody tr th:only-of-type {\n",
       "        vertical-align: middle;\n",
       "    }\n",
       "\n",
       "    .dataframe tbody tr th {\n",
       "        vertical-align: top;\n",
       "    }\n",
       "\n",
       "    .dataframe thead th {\n",
       "        text-align: right;\n",
       "    }\n",
       "</style>\n",
       "<table border=\"1\" class=\"dataframe\">\n",
       "  <thead>\n",
       "    <tr style=\"text-align: right;\">\n",
       "      <th></th>\n",
       "      <th>index</th>\n",
       "      <th>name</th>\n",
       "      <th>stars</th>\n",
       "      <th>text</th>\n",
       "      <th>Sentiment</th>\n",
       "      <th>sample</th>\n",
       "      <th>tokens</th>\n",
       "    </tr>\n",
       "  </thead>\n",
       "  <tbody>\n",
       "    <tr>\n",
       "      <th>0</th>\n",
       "      <td>0</td>\n",
       "      <td>The Empanadas House</td>\n",
       "      <td>5</td>\n",
       "      <td>I love the empanadas from the Empanadas House!...</td>\n",
       "      <td>1</td>\n",
       "      <td>I love the empanadas from the Empanadas House!...</td>\n",
       "      <td>[i, love, the, empanadas, from, the, empanadas...</td>\n",
       "    </tr>\n",
       "    <tr>\n",
       "      <th>1</th>\n",
       "      <td>1</td>\n",
       "      <td>Middle East Deli</td>\n",
       "      <td>3</td>\n",
       "      <td>Definitely under new management, and the dinin...</td>\n",
       "      <td>0</td>\n",
       "      <td>Definitely under new management, and the dinin...</td>\n",
       "      <td>[definitely, under, new, management, and, the,...</td>\n",
       "    </tr>\n",
       "    <tr>\n",
       "      <th>2</th>\n",
       "      <td>2</td>\n",
       "      <td>Middle East Deli</td>\n",
       "      <td>3</td>\n",
       "      <td>I will also agree that this place has great fo...</td>\n",
       "      <td>0</td>\n",
       "      <td>I will also agree that this place has great fo...</td>\n",
       "      <td>[i, will, also, agree, that, this, place, has,...</td>\n",
       "    </tr>\n",
       "    <tr>\n",
       "      <th>3</th>\n",
       "      <td>3</td>\n",
       "      <td>Banzai Sushi</td>\n",
       "      <td>4</td>\n",
       "      <td>Been coming here since I was in grade 9 so abo...</td>\n",
       "      <td>1</td>\n",
       "      <td>Been coming here since I was in grade 9 so abo...</td>\n",
       "      <td>[been, coming, here, since, i, was, in, grade,...</td>\n",
       "    </tr>\n",
       "    <tr>\n",
       "      <th>4</th>\n",
       "      <td>4</td>\n",
       "      <td>Wetzel's Pretzels</td>\n",
       "      <td>5</td>\n",
       "      <td>Love Wetzel's pretzels! I always get them when...</td>\n",
       "      <td>1</td>\n",
       "      <td>Love Wetzel's pretzels! I always get them when...</td>\n",
       "      <td>[love, wetzel's, pretzels, i, always, get, the...</td>\n",
       "    </tr>\n",
       "    <tr>\n",
       "      <th>...</th>\n",
       "      <td>...</td>\n",
       "      <td>...</td>\n",
       "      <td>...</td>\n",
       "      <td>...</td>\n",
       "      <td>...</td>\n",
       "      <td>...</td>\n",
       "      <td>...</td>\n",
       "    </tr>\n",
       "    <tr>\n",
       "      <th>83</th>\n",
       "      <td>91</td>\n",
       "      <td>Papaya Thai</td>\n",
       "      <td>1</td>\n",
       "      <td>Used a Groupon today to eat here and they gave...</td>\n",
       "      <td>0</td>\n",
       "      <td>Used a Groupon today to eat here and they gave...</td>\n",
       "      <td>[used, a, groupon, today, to, eat, here, and, ...</td>\n",
       "    </tr>\n",
       "    <tr>\n",
       "      <th>84</th>\n",
       "      <td>92</td>\n",
       "      <td>Papaya Thai</td>\n",
       "      <td>3</td>\n",
       "      <td>Ordered the samurai pad tie,vegetable tempura,...</td>\n",
       "      <td>0</td>\n",
       "      <td>Ordered the samurai pad tie,vegetable tempura,...</td>\n",
       "      <td>[ordered, the, samurai, pad, tie, vegetable, t...</td>\n",
       "    </tr>\n",
       "    <tr>\n",
       "      <th>85</th>\n",
       "      <td>94</td>\n",
       "      <td>Papaya Thai</td>\n",
       "      <td>1</td>\n",
       "      <td>The owner, \"V\", does not pay employees on time...</td>\n",
       "      <td>0</td>\n",
       "      <td>The owner, \"V\", does not pay_NOT employees_NOT...</td>\n",
       "      <td>[the, owner, v, does, not, pay_not, employees_...</td>\n",
       "    </tr>\n",
       "    <tr>\n",
       "      <th>86</th>\n",
       "      <td>95</td>\n",
       "      <td>Papaya Thai</td>\n",
       "      <td>2</td>\n",
       "      <td>I would give this 3 stars, but I really couldn...</td>\n",
       "      <td>0</td>\n",
       "      <td>I would give this 3 stars, but I_NOT really_NO...</td>\n",
       "      <td>[i, would, give, this, 3, stars, but, i_not, r...</td>\n",
       "    </tr>\n",
       "    <tr>\n",
       "      <th>87</th>\n",
       "      <td>99</td>\n",
       "      <td>Torteria Lupita</td>\n",
       "      <td>3</td>\n",
       "      <td>Don't want to be harsh to these compas but I a...</td>\n",
       "      <td>0</td>\n",
       "      <td>Don't want_NOT to_NOT be_NOT harsh_NOT to_NOT ...</td>\n",
       "      <td>[don't, want_not, to_not, be_not, harsh_not, t...</td>\n",
       "    </tr>\n",
       "  </tbody>\n",
       "</table>\n",
       "<p>88 rows × 7 columns</p>\n",
       "</div>"
      ],
      "text/plain": [
       "    index                 name  stars  \\\n",
       "0       0  The Empanadas House      5   \n",
       "1       1     Middle East Deli      3   \n",
       "2       2     Middle East Deli      3   \n",
       "3       3         Banzai Sushi      4   \n",
       "4       4    Wetzel's Pretzels      5   \n",
       "..    ...                  ...    ...   \n",
       "83     91          Papaya Thai      1   \n",
       "84     92          Papaya Thai      3   \n",
       "85     94          Papaya Thai      1   \n",
       "86     95          Papaya Thai      2   \n",
       "87     99      Torteria Lupita      3   \n",
       "\n",
       "                                                 text  Sentiment  \\\n",
       "0   I love the empanadas from the Empanadas House!...          1   \n",
       "1   Definitely under new management, and the dinin...          0   \n",
       "2   I will also agree that this place has great fo...          0   \n",
       "3   Been coming here since I was in grade 9 so abo...          1   \n",
       "4   Love Wetzel's pretzels! I always get them when...          1   \n",
       "..                                                ...        ...   \n",
       "83  Used a Groupon today to eat here and they gave...          0   \n",
       "84  Ordered the samurai pad tie,vegetable tempura,...          0   \n",
       "85  The owner, \"V\", does not pay employees on time...          0   \n",
       "86  I would give this 3 stars, but I really couldn...          0   \n",
       "87  Don't want to be harsh to these compas but I a...          0   \n",
       "\n",
       "                                               sample  \\\n",
       "0   I love the empanadas from the Empanadas House!...   \n",
       "1   Definitely under new management, and the dinin...   \n",
       "2   I will also agree that this place has great fo...   \n",
       "3   Been coming here since I was in grade 9 so abo...   \n",
       "4   Love Wetzel's pretzels! I always get them when...   \n",
       "..                                                ...   \n",
       "83  Used a Groupon today to eat here and they gave...   \n",
       "84  Ordered the samurai pad tie,vegetable tempura,...   \n",
       "85  The owner, \"V\", does not pay_NOT employees_NOT...   \n",
       "86  I would give this 3 stars, but I_NOT really_NO...   \n",
       "87  Don't want_NOT to_NOT be_NOT harsh_NOT to_NOT ...   \n",
       "\n",
       "                                               tokens  \n",
       "0   [i, love, the, empanadas, from, the, empanadas...  \n",
       "1   [definitely, under, new, management, and, the,...  \n",
       "2   [i, will, also, agree, that, this, place, has,...  \n",
       "3   [been, coming, here, since, i, was, in, grade,...  \n",
       "4   [love, wetzel's, pretzels, i, always, get, the...  \n",
       "..                                                ...  \n",
       "83  [used, a, groupon, today, to, eat, here, and, ...  \n",
       "84  [ordered, the, samurai, pad, tie, vegetable, t...  \n",
       "85  [the, owner, v, does, not, pay_not, employees_...  \n",
       "86  [i, would, give, this, 3, stars, but, i_not, r...  \n",
       "87  [don't, want_not, to_not, be_not, harsh_not, t...  \n",
       "\n",
       "[88 rows x 7 columns]"
      ]
     },
     "execution_count": 343,
     "metadata": {},
     "output_type": "execute_result"
    }
   ],
   "source": [
    "trial"
   ]
  },
  {
   "cell_type": "markdown",
   "metadata": {},
   "source": [
    "## Bag of words\n",
    "Using the tokens, of course\n",
    "* Make the corpora\n",
    "* Make the vectors with word presence/frecuency. I think presenc may be better for vector-space representation"
   ]
  },
  {
   "cell_type": "code",
   "execution_count": 345,
   "metadata": {
    "scrolled": false
   },
   "outputs": [],
   "source": [
    "corpora = trial['tokens'].to_numpy()"
   ]
  },
  {
   "cell_type": "code",
   "execution_count": 227,
   "metadata": {},
   "outputs": [],
   "source": [
    "def corpus_builder(corpora):\n",
    "    main_corpus = []\n",
    "    for review in corpora:\n",
    "        for word in review:\n",
    "            if word not in main_corpus:\n",
    "                main_corpus.append(word)\n",
    "    return main_corpus"
   ]
  },
  {
   "cell_type": "code",
   "execution_count": 391,
   "metadata": {},
   "outputs": [
    {
     "name": "stderr",
     "output_type": "stream",
     "text": [
      "/Users/Rafa/opt/anaconda3/lib/python3.7/site-packages/ipykernel_launcher.py:4: FutureWarning: elementwise comparison failed; returning scalar instead, but in the future will perform elementwise comparison\n",
      "  after removing the cwd from sys.path.\n"
     ]
    },
    {
     "ename": "TypeError",
     "evalue": "unhashable type: 'numpy.ndarray'",
     "output_type": "error",
     "traceback": [
      "\u001b[0;31m---------------------------------------------------------------------------\u001b[0m",
      "\u001b[0;31mTypeError\u001b[0m                                 Traceback (most recent call last)",
      "\u001b[0;32m<ipython-input-391-2b72c415b03f>\u001b[0m in \u001b[0;36m<module>\u001b[0;34m\u001b[0m\n\u001b[1;32m      7\u001b[0m             \u001b[0mcounter\u001b[0m\u001b[0;34m[\u001b[0m\u001b[0mword\u001b[0m\u001b[0;34m]\u001b[0m \u001b[0;34m+=\u001b[0m \u001b[0;36m1\u001b[0m\u001b[0;34m\u001b[0m\u001b[0;34m\u001b[0m\u001b[0m\n\u001b[1;32m      8\u001b[0m     \u001b[0;32mreturn\u001b[0m \u001b[0mlist\u001b[0m\u001b[0;34m(\u001b[0m\u001b[0mcounter\u001b[0m\u001b[0;34m.\u001b[0m\u001b[0mvalues\u001b[0m\u001b[0;34m(\u001b[0m\u001b[0;34m)\u001b[0m\u001b[0;34m)\u001b[0m\u001b[0;34m\u001b[0m\u001b[0;34m\u001b[0m\u001b[0m\n\u001b[0;32m----> 9\u001b[0;31m \u001b[0mcc\u001b[0m \u001b[0;34m=\u001b[0m \u001b[0mcounter\u001b[0m\u001b[0;34m(\u001b[0m\u001b[0mbow\u001b[0m\u001b[0;34m,\u001b[0m \u001b[0mxx\u001b[0m\u001b[0;34m)\u001b[0m\u001b[0;34m\u001b[0m\u001b[0;34m\u001b[0m\u001b[0m\n\u001b[0m\u001b[1;32m     10\u001b[0m \u001b[0mcc2\u001b[0m \u001b[0;34m=\u001b[0m \u001b[0mcounter\u001b[0m\u001b[0;34m(\u001b[0m\u001b[0mbow\u001b[0m\u001b[0;34m,\u001b[0m \u001b[0mxx\u001b[0m\u001b[0;34m)\u001b[0m\u001b[0;34m\u001b[0m\u001b[0;34m\u001b[0m\u001b[0m\n\u001b[1;32m     11\u001b[0m \u001b[0mcc\u001b[0m\u001b[0;34m\u001b[0m\u001b[0;34m\u001b[0m\u001b[0m\n",
      "\u001b[0;32m<ipython-input-391-2b72c415b03f>\u001b[0m in \u001b[0;36mcounter\u001b[0;34m(bow, vector)\u001b[0m\n\u001b[1;32m      2\u001b[0m     \u001b[0mcounter\u001b[0m \u001b[0;34m=\u001b[0m \u001b[0mdict\u001b[0m\u001b[0;34m.\u001b[0m\u001b[0mfromkeys\u001b[0m\u001b[0;34m(\u001b[0m\u001b[0mbow\u001b[0m\u001b[0;34m,\u001b[0m \u001b[0;36m0\u001b[0m\u001b[0;34m)\u001b[0m\u001b[0;34m\u001b[0m\u001b[0;34m\u001b[0m\u001b[0m\n\u001b[1;32m      3\u001b[0m     \u001b[0;32mfor\u001b[0m \u001b[0mword\u001b[0m \u001b[0;32min\u001b[0m \u001b[0mvector\u001b[0m\u001b[0;34m:\u001b[0m\u001b[0;34m\u001b[0m\u001b[0;34m\u001b[0m\u001b[0m\n\u001b[0;32m----> 4\u001b[0;31m         \u001b[0;32mif\u001b[0m \u001b[0mword\u001b[0m \u001b[0;32mnot\u001b[0m \u001b[0;32min\u001b[0m \u001b[0mbow\u001b[0m \u001b[0;32mand\u001b[0m \u001b[0mword\u001b[0m \u001b[0;32mnot\u001b[0m \u001b[0;32min\u001b[0m \u001b[0mcounter\u001b[0m\u001b[0;34m.\u001b[0m\u001b[0mkeys\u001b[0m\u001b[0;34m(\u001b[0m\u001b[0;34m)\u001b[0m\u001b[0;34m:\u001b[0m\u001b[0;34m\u001b[0m\u001b[0;34m\u001b[0m\u001b[0m\n\u001b[0m\u001b[1;32m      5\u001b[0m             \u001b[0mcounter\u001b[0m\u001b[0;34m[\u001b[0m\u001b[0mword\u001b[0m\u001b[0;34m]\u001b[0m \u001b[0;34m=\u001b[0m \u001b[0;36m0\u001b[0m\u001b[0;34m\u001b[0m\u001b[0;34m\u001b[0m\u001b[0m\n\u001b[1;32m      6\u001b[0m \u001b[0;34m\u001b[0m\u001b[0m\n",
      "\u001b[0;31mTypeError\u001b[0m: unhashable type: 'numpy.ndarray'"
     ]
    }
   ],
   "source": [
    "def counter(bow, vector):\n",
    "    counter = dict.fromkeys(bow, 0)\n",
    "    for word in vector:\n",
    "        if word not in bow and word not in counter.keys():\n",
    "            counter[word] = 0\n",
    "            \n",
    "            counter[word] += 1\n",
    "    return list(counter.values())\n",
    "cc = counter(bow, xx)\n",
    "cc2 = counter(bow, xx)\n",
    "cc"
   ]
  },
  {
   "cell_type": "code",
   "execution_count": 386,
   "metadata": {},
   "outputs": [],
   "source": [
    "bow = corpus_builder(corpora)\n",
    "def vectorizer(review_series):\n",
    "    \"\"\"\n",
    "    review_series : pandas object (series)  i.e dataframe[name_of_column]\n",
    "    \"\"\"\n",
    "    X = []\n",
    "    i = 0\n",
    "    for review in review_series:\n",
    "        word_vector = counter(bow, review)\n",
    "        if i < 1:\n",
    "            X = np.array([word_vector])\n",
    "            print(X.shape())\n",
    "            i += 1\n",
    "        X = np.append(X, [word_vector], axis = 0)\n",
    "    return X"
   ]
  },
  {
   "cell_type": "code",
   "execution_count": 380,
   "metadata": {},
   "outputs": [
    {
     "ename": "TypeError",
     "evalue": "'tuple' object is not callable",
     "output_type": "error",
     "traceback": [
      "\u001b[0;31m---------------------------------------------------------------------------\u001b[0m",
      "\u001b[0;31mTypeError\u001b[0m                                 Traceback (most recent call last)",
      "\u001b[0;32m<ipython-input-380-3b93f3dbc589>\u001b[0m in \u001b[0;36m<module>\u001b[0;34m\u001b[0m\n\u001b[1;32m      1\u001b[0m \u001b[0mcorpora\u001b[0m \u001b[0;34m=\u001b[0m \u001b[0mtrial\u001b[0m\u001b[0;34m[\u001b[0m\u001b[0;34m'tokens'\u001b[0m\u001b[0;34m]\u001b[0m\u001b[0;34m\u001b[0m\u001b[0;34m\u001b[0m\u001b[0m\n\u001b[0;32m----> 2\u001b[0;31m \u001b[0mX\u001b[0m \u001b[0;34m=\u001b[0m\u001b[0mvectorizer\u001b[0m\u001b[0;34m(\u001b[0m\u001b[0mcorpora\u001b[0m\u001b[0;34m)\u001b[0m\u001b[0;34m\u001b[0m\u001b[0;34m\u001b[0m\u001b[0m\n\u001b[0m",
      "\u001b[0;32m<ipython-input-379-71bd8d2aabb5>\u001b[0m in \u001b[0;36mvectorizer\u001b[0;34m(review_series)\u001b[0m\n\u001b[1;32m     10\u001b[0m         \u001b[0;32mif\u001b[0m \u001b[0mi\u001b[0m \u001b[0;34m<\u001b[0m \u001b[0;36m1\u001b[0m\u001b[0;34m:\u001b[0m\u001b[0;34m\u001b[0m\u001b[0;34m\u001b[0m\u001b[0m\n\u001b[1;32m     11\u001b[0m             \u001b[0mX\u001b[0m \u001b[0;34m=\u001b[0m \u001b[0mnp\u001b[0m\u001b[0;34m.\u001b[0m\u001b[0marray\u001b[0m\u001b[0;34m(\u001b[0m\u001b[0;34m[\u001b[0m\u001b[0mword_vector\u001b[0m\u001b[0;34m]\u001b[0m\u001b[0;34m)\u001b[0m\u001b[0;34m\u001b[0m\u001b[0;34m\u001b[0m\u001b[0m\n\u001b[0;32m---> 12\u001b[0;31m             \u001b[0mprint\u001b[0m\u001b[0;34m(\u001b[0m\u001b[0mX\u001b[0m\u001b[0;34m.\u001b[0m\u001b[0mshape\u001b[0m\u001b[0;34m(\u001b[0m\u001b[0;34m)\u001b[0m\u001b[0;34m)\u001b[0m\u001b[0;34m\u001b[0m\u001b[0;34m\u001b[0m\u001b[0m\n\u001b[0m\u001b[1;32m     13\u001b[0m             \u001b[0mi\u001b[0m \u001b[0;34m+=\u001b[0m \u001b[0;36m1\u001b[0m\u001b[0;34m\u001b[0m\u001b[0;34m\u001b[0m\u001b[0m\n\u001b[1;32m     14\u001b[0m         \u001b[0mX\u001b[0m \u001b[0;34m=\u001b[0m \u001b[0mnp\u001b[0m\u001b[0;34m.\u001b[0m\u001b[0mappend\u001b[0m\u001b[0;34m(\u001b[0m\u001b[0mX\u001b[0m\u001b[0;34m,\u001b[0m \u001b[0;34m[\u001b[0m\u001b[0mword_vector\u001b[0m\u001b[0;34m]\u001b[0m\u001b[0;34m,\u001b[0m \u001b[0maxis\u001b[0m \u001b[0;34m=\u001b[0m \u001b[0;36m0\u001b[0m\u001b[0;34m)\u001b[0m\u001b[0;34m\u001b[0m\u001b[0;34m\u001b[0m\u001b[0m\n",
      "\u001b[0;31mTypeError\u001b[0m: 'tuple' object is not callable"
     ]
    }
   ],
   "source": [
    "corpora = trial['tokens']\n",
    "X =vectorizer(corpora)\n"
   ]
  },
  {
   "cell_type": "code",
   "execution_count": 359,
   "metadata": {},
   "outputs": [
    {
     "name": "stdout",
     "output_type": "stream",
     "text": [
      "['i', 'love', 'the', 'empanadas', 'from', 'the', 'empanadas', 'house', \"they're\", 'authentic', 'argentine', 'empanadas', 'and', 'they', 'are', 'delicious', 'if', 'you', 'have', 'a', 'sweet', 'tooth', 'try', 'the', 'dulce', 'de', 'leche', 'with', 'walnuts']\n",
      " \n",
      "['definitely', 'under', 'new', 'management', 'and', 'the', 'dining', 'area', 'has', 'been', 'totally', 'redone', 'big', 'comfy', 'chairs', 'dangling', 'bistro', 'lighting', \"it's\", 'somewhat', 'comfier', 'the', 'menu', 'has', 'changed', 'quite', 'a', 'bit', 'this', 'learns', 'more', 'towards', 'turkish', 'than', 'anything', 'else', 'and', 'has', 'some', 'interesting', 'options', 'for', 'you', 'meaters', 'veg', 'fare', \"hasn't\", 'budged_not', 'and_not', 'neither_not', 'have_not', 'the_not', 'prices_not', 'but_not', 'the_not', 'quality_not', 'and_not', 'portion_not', 'size_not', 'have_not', 'improved_not', 'some_not', 'falafel', 'now', 'comes', 'with', 'a', 'smidge', 'of', 'hummus', 'on', 'the', 'side', 'which', 'is', 'a', 'nice', 'touch', 'everyone', 'that', 'waited', 'on', 'me', 'was', 'very', 'tall', 'female', 'and', 'beautiful', 'in', 'that', 'awesome', 'mediterranean', 'way', 'so', \"there's\", 'that']\n",
      " \n",
      "['i', 'will', 'also', 'agree', 'that', 'this', 'place', 'has', 'great', 'food', 'however', \"i've\", 'been', 'warned', 'by', 'regulars', 'that', 'the', 'owner', 'will', 'often', 'try', 'to', 'charge', 'you', 'for', 'something', 'extra', 'while', 'you', \"aren't\", 'paying_not', 'attention_not', 'if', 'you', 'think', 'your', 'bill', 'is', 'a', 'dollar', 'or', 'two', 'high', 'it', 'just', 'might', 'be']\n",
      " \n",
      "['been', 'coming', 'here', 'since', 'i', 'was', 'in', 'grade', '9', 'so', 'about', '10', 'years', 'now', 'wow', 'staff', 'are', 'very', 'friendly', 'and', 'prices', 'are', 'ridiculously', 'cheap', 'i', 'remember', 'back', 'in', 'my', 'younger', 'days', 'being', 'short', 'on', 'change', 'and', 'they', 'never', 'cared_not', 'super', 'nice', 'family', 'owned', 'businesses', 'i', 'always', 'get', 'the', 'california', 'roll', 'either', 'i', 'grab', 'one', 'out', 'of', 'the', 'fridge', 'or', 'have', 'them', 'make', 'it', 'fresh', 'if', \"there's\", 'none', 'the', 'tofu', 'is', 'also', 'really', 'good', 'they', 'also', 'sell', 'so', 'many', 'different', 'kinds', 'of', 'pop', 'in', 'a', 'can', 'for', 'a', 'buck', 'and', 'different', 'asian', 'treats', 'like', 'pocky']\n",
      " \n",
      "['love', \"wetzel's\", 'pretzels', 'i', 'always', 'get', 'them', 'when', \"i'm\", 'at', 'the', 'mall', 'if', 'you', 'download', 'their', 'app', 'you', 'get', 'rewards', 'for', 'a', 'free', 'pretzel', 'i', 'love', 'the', \"wetzel's\", 'bites', 'either', 'salty', 'or', 'cinnamon', 'the', \"wetzel's\", 'dog', 'bites', 'are', 'okay', 'they', 'taste', 'like', 'hot', 'dogs']\n",
      " \n",
      "['so', 'why', 'would', 'i', 'be', 'giving', 'a', 'fast', 'food', 'chain', 'location', 'a', '5', 'star', 'rating', 'for', 'some', 'reason', 'this', \"carl's\", 'jr', 'is', 'one', 'in', 'a', 'million', 'yes', 'there', 'is', 'an', 'in-and-out', 'across', 'the', 'street', 'but', 'this_not', 'carl_not', 'jr_not', 'is_not', 'everything_not', 'in_not', 'can_not', 'be_not', 'first', 'of', 'all', 'their', 'shakes', \"carl's\", 'jr', 'shakes', 'are', 'hand', 'scooped', 'and', 'mixed', 'upon', 'order', 'unlike', \"they're\", 'competitors', 'across', 'the', 'street', 'the', 'chocolate', 'shake', 'is', 'the', 'best', \"i've\", 'ever', 'had', 'from', 'a', 'drive', 'thru', 'point', 'for', \"carl's\", 'jr', 'second', 'the', 'hand', 'battered', 'chicken', 'strips', 'were', 'literally', 'hand', 'battered', 'i', 'watch', 'the', 'guy', 'through', 'the', 'service', 'window', 'dip', 'and', 'fry', 'the', 'single', 'best', 'chicken', 'strips', \"i've\", 'ever', 'had', 'but', 'they', 'may', 'need', 'new', 'sauces', 'tired', 'of', 'bbq', '...', 'but', 'still', 'outstanding', 'nonetheless', 'point', '2', 'for', \"carl's\", 'jr', 'lastly', 'hours', '24/7', 'on', 'the', 'weekends', 'and', 'midnight', 'on', 'the', 'weekdays', 'brilliant', 'for', 'my', 'late', 'night', 'guru-ness', 'worth', 'the', 'drive']\n",
      " \n",
      "['i', 'come', 'here', 'bout', '3x', 's', 'a', 'mo', 'i', 'just', \"can't\", 'do_not', 'it_not', 'anymore_not', 'the', 'cook', 'that', 'works', 'on', 'late', 'shift', 'sucks', 'the', 'manager', 'is', 'sweet', 'i', 'always', 'get', 'chicken', 'santa', 'fe', 'i', 'have', 'to', 'request', 'fresh', 'lettuce', 'the', 'chicken', 'is', 'rubber', 'the', 'bread', 'hard', 'on', 'the', 'outside', 'tonight', 'i', 'received', 'it', 'the', 'same', 'way', 'however', 'my', 'cheese', \"wasn't\", 'even_not', 'melted_not', 'im', 'done', 'i', 'go', 'after', 'work', 'arrive', 'always', 'bout', '1130pm', \"i'm\", 'sooooo', 'done', 'let', 'me', 'know', 'when', 'u', 'get', 'a', 'new', 'night', 'cook', 'yes', 'i', 'do', 'know', 'food', \"i've\", 'been', 'in', 'the', 'industry', '15', 'yrs']\n",
      " \n",
      "[\"we've\", 'eaten', 'here', 'a', 'few', 'times', 'now', 'and', 'have', 'been', 'very', 'satisfied', 'the', 'burgers', 'are', 'tasty', 'and', 'seem', 'to', 'be', 'very', 'fresh', 'no', 'rubber_not', 'patties_not', 'the', 'price', 'of', 'the', 'burger', 'is', 'priced', 'proportionately', 'to', 'how', 'many', 'toppings', 'you', 'like', 'which', 'seams', 'fair', 'to', 'me', 'but', 'many_not', 'toppings_not', 'are_not', 'free_not', 'too_not', 'while', 'it', 'is', 'a', 'bit', 'pricey', 'for', 'takeout', '25', 'for', '2', 'burgers', '2', 'fries', 'and', 'two', 'drink', 'i', 'think', 'i', 'would', 'still', 'choose', 'this', 'over', 'most', 'of', 'the', 'alternatives', 'the', 'fries', 'are', 'good', 'the', 'onion', 'rings', 'are', 'great', 'the', 'milk', 'shakes', 'are', 'tasty', 'overall', 'win', 'for', 'the', 'neighbourhood', 'also', 'bonus', 'points', 'for', 'being', 'very', 'clean', 'which', 'is', 'high', 'up', 'on', 'the', 'importance', 'scale', 'for', 'me', 'i', 'actually', 'watched', 'the', 'manager', 'sign', 'out', 'after', 'her', 'shift', 'but', 'on', 'her', 'way', 'out', 'which', 'i', 'imagine', 'was', 'unpaid', 'time', 'she', 'went', 'around', 'and', 'tidied', 'up', 'some', 'tables', 'pushed', 'in', 'chairs', 'etc', 'a', 'manager', 'who', 'cares', 'how', 'novel']\n",
      " \n",
      "['this', 'place', 'used', 'to', 'be', 'called', 'chicken', 'bonz', 'as', 'they', 'specialized', 'in', 'chicken', 'wings', 'and', 'had', 'a', 'few', 'other', 'items', 'on', 'the', 'side', 'they', 'were', 'pretty', 'good', 'and', 'i', 'ate', 'there', 'all', 'the', 'time', 'used', 'to', 'being', 'the', 'important', 'part', 'a', 'few', 'months', 'ago', 'they', 'broke', 'from', 'the', 'franchise', 'and', 'renamed', 'meat', 'chix', 'and', 'wieners', 'really', 'who', 'calls', 'a', 'restaurant', 'this', 'i', 'tried', 'it', 'out', 'a', 'few', 'times', 'after', 'the', 'change', 'but', 'today_not', 'was_not', 'the_not', 'last_not', 'straw_not', 'we', 'walked', 'in', 'and', 'ordered', 'the', 'usual', '6', 'wings', 'medium', 'for', 'me', 'same', 'for', 'my', 'wife', 'ranch', 'and', 'blue', 'cheese', 'dip', 'large', 'fries', 'to', 'share', 'and', 'two', 'drinks', 'well', 'they', 'changed', 'their', 'menu', 'and', 'no', 'longer', 'have', 'medium', 'sauce', 'or', 'blue', 'cheese', 'what', 'kind', 'of', 'wing', 'place', \"doesn't\", 'have', 'blue', 'cheese', 'my', 'wife', 'changes', 'her', 'order', 'to', 'a', 'portabello', 'burger', 'with', 'onion', 'rings', 'hot', 'sauce', 'on', 'the', 'side', 'almost', '25', 'dollars', 'later', 'we', 'sit', 'down', 'to', 'wait', 'and', 'wait', '...', 'and', 'wait', 'some', 'more', '25', 'minutes', 'later', 'we', 'get', 'our', 'order', 'did', 'i', 'mention', 'this', 'is', 'a', 'cook', 'to', 'order', 'fast-food', 'place', 'orders', 'used', 'to', 'come', 'out', 'at', 'lightning', 'speed', 'sometimes', 'before', 'we', 'had', 'even', 'filled', 'our', 'drinks', 'and', 'sat', 'down', 'not', 'anymore', 'we', 'were', 'assured', 'several', 'times', 'that', 'our', 'food', 'would', 'be', 'right', 'out', 'by', 'who', 'we', 'think', 'was', 'the', 'manager', 'however', 'she', 'grabbed', 'her', 'bags', 'from', 'the', 'office', 'that', 'was', 'set', 'up', 'in', 'a', 'booth', 'in', 'the', 'corner', 'of', 'the', 'restaurant', 'before', 'we', 'got', 'our', 'food', 'after', 'all', 'that', 'waiting', 'you', 'think', 'they', 'could', 'at', 'least', 'get', 'the', 'order', 'correct', 'right', 'nope', 'my', 'wife', 'got', 'her', 'burger', 'with', 'their', 'trendy', 'version', 'of', 'french', 'fries', 'that', 'look', 'like', 'little', 'more', 'than', 'thick', 'potato', 'chips', 'no', 'hot', 'sauce', 'no', 'onion', 'rings', 'i', 'get', 'my', '5', '1/2', 'wings', 'one', 'was', 'a', 'mutant', 'or', 'from', 'a', 'baby', 'chicken', 'ranch', 'and', 'no', 'fries', 'she', 'goes', 'to', 'cashier', 'the', 'only', 'person', 'no', 'working', 'outside', 'of', 'the', 'kitchen', 'btw', 'and', 'let', 'her', 'know', 'a', 'few', 'minutes', 'later', 'we', 'get', 'the', 'onion', 'rings', 'but', 'no', 'sauce', 'or', 'apology', 'the', 'food', 'itself', 'was', 'ok', 'but', 'again', 'used', 'to', 'be', 'much', 'better', 'the', 'wings', 'were', 'small', 'and', 'thinly', 'sauced', 'the', 'order', 'of', 'fries', 'was', 'small', 'and', 'not', 'particularly', 'good', 'my', 'wife', 'did', 'say', 'the', 'portabello', 'burger', 'was', 'good', 'i', 'really', 'wish', 'i', \"didn't\", 'have', 'to', 'write', 'this', 'since', 'the', 'previous', 'establishment', 'had', 'been', 'so', 'good', 'and', 'we', 'went', 'there', 'often', 'whatever', 'changed', 'in', 'the', 'past', 'few', 'months', 'has', 'certainly', 'been', 'a', 'bad', 'move', 'on', 'meat', 'chix', 'and', \"wiener's\", 'part', 'and', 'i', \"don't\", 'think', \"they'll\", 'be', 'seeing', 'us', 'again']\n",
      " \n",
      "['good', 'food', 'terrible', 'customer', 'service', 'for', 'me', 'customer', 'service', 'plays', 'a', 'huge', 'role', 'in', 'every', 'dining', 'experience', 'so', 'the', 'attitude', 'of', 'the', 'employees', 'throws', 'me', 'off']\n",
      " \n",
      "['just', 'another', 'nice', 'amir', 'food', 'nothing', 'more_not', 'but_not', 'renovated_not', 'food_not', 'court_not', 'and_not', 'very_not', 'clean_not', 'i', 'always', 'like', 'eat', 'pita', 'when', 'hungry']\n",
      " \n",
      "['small', 'portions', 'and', 'expensive', 'there', 'was', 'so', 'little', 'chicken', 'in', 'the', 'chicken', 'pita', 'that', 'i', 'could', 'have', 'eaten', '3', 'of', 'them', 'fast', 'food', 'atmosphere']\n",
      " \n",
      "['i', 'only', 'ever', 'eat', 'at', 'three', 'of', 'the', 'millions', 'of', 'amirs', 'locations', 'the', 'one', 'downtown', 'on', 'demaisonneuve', 'o', 'the', 'one', 'on', 'sherbrooke', 'in', 'ndg', 'or', 'this', 'one', 'at', 'jean-talon', 'and', 'decarie', 'which', 'is', 'the', 'one', 'i', 'try', 'to', 'avoid', 'whenever', 'possible', 'as', \"it's\", 'usually', 'terrible', 'of', 'the', 'three', 'locations', 'mentioned', 'above', 'this', 'one', 'has', 'the', 'worst', 'service', 'and', 'the', 'food', 'is', 'usually', 'almost', 'as', 'bad', 'as', 'said', 'service', 'its', 'prices', 'are', 'higher', 'than', 'other', 'locations', 'for', 'no', 'good_not', 'reason_not', 'and_not', 'they_not', 'throw_not', 'in_not', 'these_not', 'hidden_not', 'extra', 'charges', 'wherever', 'they', 'deem', 'necessary', 'on', 'top', 'of', 'it', 'on', 'my', 'last', 'reluctant', 'visit', 'we', 'were', 'in', 'a', 'rush', 'but', 'i', 'so', 'badly', 'needed', 'my', 'shish-taouk', 'fix', 'and', 'this', 'was', 'the', 'nearest', 'place', 'to', 'curb', 'the', 'urge', 'as', 'it', 'was', 'rush-hour', 'and', 'we', 'were', 'so', 'close', 'by', 'we', 'ended', 'up', 'eating', 'at', 'the', 'jt', 'location', 'i', 'was', 'hoping', 'things', 'would', 'be', 'different', 'this', 'time', 'but', 'they', \"weren't\", 'there', 'was', 'the', 'surly', 'cashier', 'and', 'the', 'testy', 'guys', 'throwing', 'together', \"one's\", 'food', \"they're\", 'actually', 'not', 'so', 'bad', 'especially', 'when', 'you', 'smile', 'at', 'them', 'who', \"didn't\", 'make', 'for', 'a', 'warm', 'welcome', 'but', 'i', 'went', 'for', 'the', 'food', 'which', 'was', 'a', 'little', 'better', 'than', 'on', 'previous', 'visits', 'but', 'still', 'way', 'too', 'greasy', 'i', \"don't\", 'have', 'this', 'problem', 'at', 'other', 'amirs', 'on', 'top', 'of', 'it', 'we', 'were', 'charged', 'an', 'extra', 'dollar', 'here', 'and', 'there', 'without', 'any', 'explanation', 'we', \"didn't\", 'notice', 'the', 'charges', 'on', 'the', 'bill', 'until', 'we', 'sat', 'down', 'and', 'started', 'eating', 'meanwhile', 'we', \"didn't\", 'ask', 'for', 'anything', 'extra', 'the', 'service', 'i', 'can', 'get', 'over', 'as', \"it's\", 'not', 'exactly', 'a', 'sit-down-and-tip', 'kind', 'of', 'place', 'but', 'their', 'food', 'is', 'always', 'ssooooooo', 'greasy', 'or', 'dry', 'if', 'you', 'get', 'the', 'chicken', 'kebabs', 'and', 'their', 'prices', 'are', 'still', 'higher', 'if', 'the', 'food', 'was', 'better', 'i', 'might', 'not', 'mind', 'paying', 'a', 'few', 'extra', 'dollars', 'but', \"it's\", 'not', 'this', 'location', 'has', 'a', 'drive-thru', 'window', 'not', 'that', 'their', 'meals', 'are', 'the', 'kind', 'of', 'thing', \"i'd\", 'dare', 'try', 'and', 'eat', 'on', 'the', 'road', 'but', 'for', 'take-out', \"it's\", 'an', 'option', \"i'd\", 'check', 'to', 'make', 'sure', 'all', 'the', 'items', 'ordered', 'are', 'in', 'the', 'bag', 'before', 'driving', 'away', 'though--this', 'place', 'seems', 'pretty', 'sloppy', 'and', 'careless', 'about', 'what', 'they', 'do', 'better', 'yet', 'i', 'would', 'simply', 'avoid', 'this', 'amir', 'if', 'i', 'were', 'you']\n",
      " \n",
      "['we', 'just', 'recently', 'discovered', 'this', 'place', 'and', 'i', 'just', 'wish', 'we', 'have', 'discovered', 'it', 'sooner', 'the', 'hot', 'dogs', 'are', 'to', 'die', 'for', 'they', 'are', 'perfectly', 'snappy', 'with', 'all', 'the', 'traditional', 'chicago', \"fixin's\", 'on', 'poppy', 'seed', 'bun', 'yum', 'i', 'love', 'the', 'fries', 'which', 'are', 'served', 'in', 'generous', 'sized', 'portions', 'and', 'always', 'come', 'out', 'so', 'hot', 'fresh', 'and', 'crisp', 'the', 'italian', 'beef', 'is', 'a', 'heck', 'of', 'a', 'sandwich', 'with', 'tender', 'meat', 'lots', 'of', 'peppers', 'delicious', 'bread', 'and', 'au', 'jus', 'my', 'girls', 'and', 'i', 'are', 'huge', 'fans', 'of', 'their', 'sliders', 'not', 'quite', 'up', 'to', 'the', 'standard', 'of', 'my', 'absolute', 'favorite', 'white', 'castles', 'but', 'still', 'very', 'tasty']\n",
      " \n",
      "['i', \"can't\", 'believe_not', 'i_not', 'never_not', 'knew_not', 'about_not', 'a_not', 'place_not', 'that_not', 'is_not', 'a_not', 'mere_not', 'five_not', 'minutes_not', 'away_not', 'from_not', 'me_not', 'in_not', 'a_not', 'complex_not', 'that_not', 'i_not', 'shop_not', 'at_not', 'frequently_not', 'until_not', 'earlier_not', 'today_not', 'i', 'found', 'all', 'the', 'reviews', 'from', 'here', 'very', 'tempting', 'and', 'so', 'too', 'were', 'the', 'prices', 'i', 'ordered', 'a', 'chicago', 'dog', 'and', 'two', 'cheese', 'sliders', 'both', 'with', 'everything', 'on', 'them', 'the', 'dog', 'was', 'the', 'best', 'chicago', 'dog', \"i've\", 'had', 'in', 'arizona', 'and', \"i've\", 'lived', 'here', 'for', '22', 'years', 'however', 'the', 'hot', 'dog', 'was', 'not', 'the_not', 'pinnacle_not', 'of_not', 'my_not', 'meal_not', 'the', 'cheese', 'sliders', 'were', 'a-mazing', 'the', 'best', \"i've\", 'ever', 'had', '...', 'anywhere', 'they', 'were', 'slightly', 'bigger', 'than', 'i', 'expected', 'but', 'i', 'wished', 'i', 'had', 'ordered', 'more', 'when', 'i', 'was', 'done', 'with', 'them', 'i', 'took', 'advantage', 'of', 'their', 'take-out', 'since', 'i', 'dined', 'alone', 'but', 'the', 'actual', 'dining', 'area', 'is', 'a', 'lot', 'bigger', 'than', 'one', 'would', 'think', 'by', 'looking', 'at', 'it', 'from', 'the', 'outside', \"lot's\", 'of', 'chicago', 'memorabilia', 'and', 'pictures', 'add', 'to', 'the', 'atmosphere', 'my', 'favorite', 'piece', 'was', 'a', 'poster', 'that', 'had', 'a', 'hot', 'dog', 'rated', 'nk', '17', 'no', 'ketchup', 'unless', 'under', 'the', 'age', 'of', '17', \"that's\", 'just', 'beautiful', 'to', 'sum', 'up', 'good', 'place', 'to', 'dine-in', 'or', 'take-out', 'best', 'dogs', 'in', 'arizona', 'and', 'possibly', 'the', 'best', 'sliders', 'anywhere', 'highly', 'recommended']\n",
      " \n",
      "['the', 'one', 'thing', 'keeping', 'this', 'place', 'from', 'getting', '5', 'stars', 'steam', 'the', 'facking', 'buns', 'for', 'chrissakes', 'if', 'the', 'slider', 'meat', 'would', 'have', 'been', 'cooked', 'fresh', 'and', 'buns', 'steamed', 'would', 'have', 'been', 'a', 'great', 'meal', 'but', 'a_not', 'cold_not', 'slider_not', 'bun_not', 'sucks_not', 'ass_not']\n",
      " \n",
      "[\"we've\", 'tried', 'a', 'few', 'different', 'chinese', 'delivery', 'places', \"i'll\", 'admit', \"i'm\", 'not', 'a_not', 'huge_not', 'fan_not', 'of_not', 'chinese_not', 'food_not', 'but', 'this_not', 'place_not', 'had_not', 'some_not', 'good_not', 'food_not', 'i', 'like', 'the', 'shrimp', 'lo', 'mein', 'and', 'kung', 'pow', 'shrimp', 'the', 'shrimp', 'was', 'juicy', 'unlike', 'some', 'other', 'places', 'we', 'tried', 'it', 'is', 'also', 'a', 'good', 'price', 'with', 'huge', 'portions', \"don't\", 'order_not', 'the_not', 'poo_not', 'poo_not', 'platter_not', 'though_not', 'none_not', 'of_not', 'the_not', 'items_not', 'in_not', 'it_not', 'were_not', 'good_not']\n",
      " \n",
      "['my', 'expectations', 'of', 'chinese', 'delivery', 'places', 'in', 'gilbert', 'or', 'mesa', 'are', 'pretty', 'low', 'but', 'this_not', 'place_not', 'is_not', 'soo_not', 'much_not', 'better_not', 'than_not', 'anything_not', 'we_not', 'ordered_not', 'in_not', 'the_not', 'area_not', 'before_not', \"i'm\", 'actually', 'eating', 'my', 'kung', 'pao', 'chicken', 'now', 'and', 'was', 'moved', 'by', 'its', 'yumminess', 'to', 'hop', 'on', 'yelp', 'and', 'write', 'a', 'quick', 'review', 'the', 'portions', 'are', 'very', 'generous', 'the', 'food', 'is', 'actually', 'pretty', 'darn', 'good', 'and', 'they', 'deliver']\n",
      " \n",
      "['this', 'place', 'only', 'gets', 'one', 'star', 'because', 'the', 'system', 'will', 'not', 'let_not', 'me_not', 'post_not', 'the_not', 'comment_not', 'without_not', 'any_not', 'stars_not', 'i', 'would', 'never', 'eat_not', 'here_not', 'again_not', 'we', 'ordered', 'delivery', 'as', 'i', 'am', 'moving', 'and', 'packing', 'this', 'place', 'about', 'a', 'mile', 'from', 'my', 'home', 'when', 'speaking', 'with', 'the', 'woman', 'who', 'answered', 'the', 'phone', 'she', \"couldn't\", 'understand_not', 'what_not', 'i_not', 'was_not', 'asking_not', 'for_not', 'and_not', 'i_not', 'couldn_not', 'understand_not', 'her_not', 'broken_not', 'english_not', 'i', 'was', 'promised', 'our', 'order', 'within', '45', 'minutes', 'i', 'called', 'back', 'after', 'an', 'hour', 'and', 'was', 'told', 'it', 'would', 'be', 'here', 'in', '5', 'minutes', '15', 'minutes', 'later', 'our', 'food', 'arrived', 'an', 'hour', 'an', '15', 'min', 'after', 'i', 'had', 'ordered', 'we', 'ordered', \"tso's\", 'chicken', 'chicken', 'lo', 'mien', 'vegetable', 'fried', 'rice', 'and', 'fried', 'wontons', 'the', \"tso's\", 'chicken', 'was', 'over', 'cooked', 'and', 'dry', 'also', 'had', 'a', 'gamey', 'after-taste', 'is', 'chicken', 'ever', 'supposed', 'to', 'have', 'a', 'gamey', 'taste', 'barf', 'i', 'had', 'one', 'bite', 'and', 'we', 'threw', 'it', 'out', 'and', 'questioned', 'if', 'it', 'were', 'actually', 'chicken', 'or', 'not', 'the', 'fried', 'rice', 'and', 'lo', 'mien', 'were', 'ok', 'nothing', 'to', 'write', 'home', 'about', 'and', 'nothing', 'i', 'would', 'ever', 'order', 'again', 'they', 'were', 'edible', 'the', 'pork', 'in', 'the', 'wontons', 'was', 'that', 'milled', 'or', 'ground', 'pork', 'i', 'do', 'not', 'prefer', 'this', 'type', 'of', 'pork', 'and', 'wasnt', 'in', 'love', 'with', 'the', 'dish', 'either', 'due', 'to', 'the', 'long', 'delivery', 'time', 'and', 'the', 'gamey', 'taste', 'of', 'our', 'chicken', 'not', 'to', 'mention', 'nothing', 'was', 'still', 'hot', 'when', 'it', 'got', 'here', '..', 'i', 'would', 'never', 'eat', 'here', 'again', 'i', 'do', 'not', 'recommend', 'anyone', 'eat', 'here', 'barf']\n",
      " \n",
      "['this', 'place', 'is', 'exactly', 'why', 'i', 'rarely', 'eat', 'chinese', 'anymore', 'instead', 'favoring', 'the', 'lighter', 'fresher', 'vietnamese', 'food', 'staying', 'at', 'best', 'western', 'and', 'had', 'delivery', 'so', 'was', 'not', 'expecting_not', 'it_not', 'to_not', 'be_not', 'excellent_not', 'because_not', 'delivery_not', 'by_not', 'its_not', 'nature_not', 'just_not', 'can_not', 'be_not', 'so_not', 'time', 'for', 'delivery', 'took', '1.5', 'hours', 'to', 'arrive', 'and', 'when', 'it', 'did', 'it', 'was', 'terrible', 'sesame', 'chicken', 'he', 'said', 'it', 'was', 'ok', 'but', 'i_not', 'think_not', 'it_not', 'had_not', 'too_not', 'much_not', 'batter_not', 'but_not', 'at_not', 'least_not', 'it_not', 'was_not', 'sort_not', 'of_not', 'crispy_not', 'still_not', 'considering_not', 'it_not', 'was_not', 'delivery_not', 'wonton', 'soup', 'no', 'flavor_not', 'what_not', 'so_not', 'ever_not', 'thick', 'wontons', 'partly', 'cooked', 'pan', 'fired', 'noodles', 'tough', 'under', 'cooked', 'horrible', 'brown', 'sauce', 'but', 'meat', 'shrimp', 'quality', 'was', 'sort', 'of', 'ok', 'as', 'far', 'as', 'i', 'could', 'tell', 'under', 'the', 'brown', 'sauce', 'pork', 'fried', 'rice', 'what', 'pork', 'fried', 'rice', 'what', 'we', 'got', 'was', '3', 'containers', 'of', 'brown', 'rice', 'the', 'sesame', 'chicken', 'platter', 'was', 'supposed', 'to', 'have', 'pork', 'fired', 'rice', 'which', 'was', 'not', 'to', 'be', 'found', 'in', 'the', 'bag', 'but', 'there', 'were', 'many', 'containers', 'of', 'the', 'gummy', 'yet', 'tough', 'how', 'does', 'that', 'happen', 'brown', 'rice', 'even', 'i', 'can', 'cook', 'brown', 'rice', 'better', 'egg', 'rolls', 'horrid', 'enough', 'said', 'on', 'those', 'other', 'than', 'one', 'was', 'supposed', 'to', 'be', 'a', 'shrimp', 'one', 'and', 'i', 'never', 'saw', 'or', 'tasted', 'any', 'shrimp', 'i', 'am', 'from', 'denver', 'and', 'we', 'have', 'lots', 'of', 'good', 'asian', 'food', 'there', 'china', 'gourmet', 'was', 'no', 'comparison', 'to', 'what', 'it', 'should', 'have', 'been', 'even', 'with', 'the', 'most', 'mediocre', 'chinese', 'food', 'found', 'in', 'denver']\n",
      " \n",
      "[\"tzikii's\", 'food', 'is', 'awesome', 'i', 'absolutely', 'love', 'the', 'hummus', 'and', \"gyro's\", 'if', 'your', 'in', 'the', 'tempe', 'area', 'i', 'suggest', 'you', 'go', 'out', 'and', 'try', \"tzikii's\", 'they', 'are', 'very', 'very', 'very', 'very', 'good']\n",
      " \n",
      "['i', 'am', 'rating', 'this', 'five', 'guys', 'as', 'a', 'comparison', 'to', 'others', 'that', 'i', 'have', 'been', 'to', 'in', 'the', 'charlotte', 'as', 'a', 'transplant', 'from', 'california', 'in-n-out', 'was', 'my', 'staple', 'burger', 'place', 'after', '3', 'years', 'in', 'charlotte', 'i', 'am', 'ready', 'to', 'admit', 'that', 'i', 'have', 'officially', 'defected', 'to', 'five', 'guys', 'of', 'the', 'many', 'options', 'for', 'five', 'guys', 'in', 'the', 'area', 'this', 'is', 'the', 'location', 'that', 'consistently', 'pumps', 'out', 'exactly', 'what', 'i', 'want', \"don't\", 'get_not', 'me_not', 'wrong_not', 'in_not', 'a_not', 'crunch_not', 'i_not', 'visit_not', 'the_not', 'epicenter_not', 'or_not', 'some_not', 'other_not', 'location_not', 'but_not', 'this_not', 'is_not', 'the_not', 'one_not', 'that_not', 'is_not', 'my_not', 'golden_not', 'standard_not', 'this', 'is', 'why', 'this', 'five', 'guys', 'rocks', 'it', 'out', 'never', 'a', 'line', 'i', \"don't\", 'know', 'how', 'they', 'do', 'it', 'but', 'of', 'the', 'many', 'times', \"i've\", 'been', 'here', 'i', 'have', 'never', 'stood', 'in', 'line', 'ok', 'maybe', 'they', 'are', 'sometime', 'finishing', 'up', 'with', 'one', 'person', 'perhaps', 'i', 'just', 'happen', 'upon', 'the', 'place', 'at', 'off-peak', 'times', 'but', 'hey', 'that', 'is', 'my', 'experience', 'consistently', 'well-prepared', 'burgers', 'at', 'various', 'locations', \"i've\", 'noticed', 'subtle', 'differences', 'in', 'the', 'preparation--either', 'too', 'greasy', 'or', 'not', 'greasy', 'enough', 'lacking', 'in', 'condiments', 'bun', 'falling', 'apart', 'whenever', 'i', 'come', 'here', 'i', 'get', 'perfect', 'buns', 'and', 'fries', 'with', 'the', 'right', 'amount', 'of', 'condiments', 'the', 'staff', 'is', 'awesome', 'i', 'always', 'see', 'smiles', 'and', 'familiar', 'faces', 'vicinity', 'to', 'the', 'mallard', 'creek', 'greenway', 'there', 'is', 'no', 'better', 'way', 'to', 'follow', 'up', 'an', '8', 'mile', 'run', 'than', 'to', 'regain', 'all', 'of', 'those', 'lost', 'calories', 'that', 'my', 'dirty', 'little', 'secret']\n",
      " \n",
      "['by', 'far', 'the', 'best', 'burger', 'joint', 'in', 'charlotte', \"i've\", 'been', 'to', 'several', 'locations', 'in', 'charlotte', 'and', 'pretty', 'much', 'have', 'the', 'same', 'experience', 'in', 'all', 'of', 'them', 'menu', 'is', 'small', 'and', 'to', 'the', 'point', 'nothing', 'fancy_not', 'here_not', 'just_not', 'big_not', 'delicious_not', 'and_not', 'very_not', 'messy_not', 'burgers_not', 'the', 'fries', 'are', 'good', 'too', 'just', 'wish', 'they', 'had', 'a', 'smaller', 'size', 'three', 'people', 'can', 'eat', 'out', 'of', 'the', 'small']\n",
      " \n",
      "['these', 'guys', 'just', 'get', 'it', 'right', 'great', 'burgers', 'straight', 'forward', 'toppings', 'hand', 'cut', 'fries', \"i've\", 'eaten', 'here', 'on', 'more', 'than', 'a', 'few', 'occasions', 'with', 'the', 'family', 'and', 'everyone', 'loves', 'it', 'counter', 'service', 'is', 'always', 'polite', 'and', 'expeditious', 'enjoy']\n",
      " \n",
      "['always', 'good', 'fresh', 'juicy', 'burgers', 'they', 'are', 'a', 'bit', 'over', 'price', 'but', 'i_not', 'pay_not', 'it_not', 'because_not', 'they_not', 'are_not', 'delicious_not', 'i', 'really', 'wish', 'this', 'burger', 'joint', 'had', 'milkshakes', 'i', 'mean', 'a', 'burger', 'joint', 'needs', 'milkshakes', 'if', 'you', 'have', 'a', 'peanut', 'allergy', 'like', 'my', 'son', 'stay', 'away', 'as', 'the', 'fries', 'are', 'cooked', 'in', 'peanut', 'oil', 'and', 'peanuts', 'are', 'in', 'open', 'boxes', 'in', 'the', 'dining', 'area']\n",
      " \n",
      "['i', 'am', 'a', 'fan', 'of', 'five', 'guys', 'where', 'ever', \"i'm\", 'at', '...', 'and', 'this', 'one', \"didn't\", 'disappoint_not', 'it', 'has', 'to', 'be', 'one', 'of', 'the', 'nicest', 'ones', \"i've\", 'ever', 'been', 'to', 'the', 'only', 'challenge', 'i', 'had', 'was', 'in', 'finding', 'it', 'as', \"it's\", 'behind', 'the', 'shopping', 'center', '...', 'but', 'then_not', 'the_not', 'gps_not', 'was_not', 'ever_not', 'diligent_not', 'and_not', 'got_not', 'me_not', 'there_not', 'just_not', 'fine_not', 'you', 'will', 'enjoy', 'this', 'location']\n",
      " \n",
      "['stopped', 'here', 'with', 'my', 'wife', 'due', 'to', 'the', '18', 'pizza', 'for', '9', 'sign', 'out', 'front', 'it', \"didn't\", 'disappoint_not', 'the', 'staff', 'is', 'amazingly', 'friendly', 'upon', 'placing', 'our', 'order', 'they', 'asked', 'what', 'type', 'of', 'sauce', 'we', 'wanted', 'she', 'said', 'oh', 'you', \"haven't\", 'been_not', 'here_not', 'before_not', 'said', 'hold', 'on', 'went', 'to', 'the', 'back', 'and', 'brought', 'out', '2', 'cups', 'with', 'each', 'sauce', 'in', 'them', 'and', 'a', 'roll', 'cut', 'up', 'to', 'try', 'the', 'sauce', 'customer', 'service', 'alone', 'this', 'place', 'is', 'remarkable', 'then', 'the', 'pizza', 'came', 'out', 'wow', 'it', 'was', 'huge', 'crispy', 'and', 'wonderful', 'we', 'also', 'got', 'a', 'hoagie', 'their', 'bread', 'is', 'amazing', 'and', 'it', 'was', 'cooked', 'perfectly', 'this', 'will', 'be', 'my', 'new', 'go', 'to', 'pizza', 'spot', 'in', 'the', 'plum', 'area', 'do', 'yourself', 'a', 'favor', 'and', 'check', 'it', 'out', 'also', 'try', 'the', 'sweet', 'sauce']\n",
      " \n",
      "['delicious', 'delicous', 'declicous', 'it', 'is', 'my', 'go-to', 'place', 'for', 'vietnemese', 'food', 'i', 'am', 'never', 'disappointed_not', 'yummy', 'soups', 'and', 'can', 'never', 'go_not', 'wrong_not', 'with_not', 'the_not', 'spring_not', 'rolls_not']\n",
      " \n",
      "['as', 'a', 'vietnamese', 'person', 'i', 'highly', 'recommend', 'this', 'place', 'for', 'pho', 'bun', 'and', 'or', 'ca', 'phe', 'sua', 'da', 'the', 'pho', 'broth', 'is', 'the', 'best', 'in', 'comparison', 'to', 'the', 'other', 'pho', 'competitors', 'within', 'the', 'vicinity', 'their', 'drinks', 'are', 'delicious', 'but', 'seriously_not', 'get_not', 'their_not', 'vietnamese_not', 'iced_not', 'coffee_not', 'if_not', 'you_not', 'want_not', 'to_not', 'stay_not', 'awake_not', 'for_not', 'the_not', 'rest_not', 'of_not', 'the_not', 'day_not', 'such', 'refreshing', 'scents', 'and', 'tastes', 'here', 'this', 'is', 'the', 'best', 'vietnamese', 'spot', 'in', 'east', 'chinatown', 'that', 'the', \"gta's\", 'got', 'to', 'offer']\n",
      " \n",
      "['been', 'going', 'to', 'mi', 'mi', 'restaurant', 'for', 'years', 'i', 'love', 'this', 'place', \"it's\", 'my', 'daughters', 'and', 'my', 'go', 'to', 'restaurant', 'when', \"we're\", 'downtown', 'to', 'see', 'my', 'grandparents', 'the', 'food', 'is', 'so', 'flavourful', 'the', 'service', 'is', 'great', 'and', 'the', 'owners', 'daughter', 'that', 'serves', 'us', 'is', 'very', 'nice', 'my', 'favourite', 'and', 'go', 'to', 'dishes', 'that', 'we', 'usually', 'get', 'is', 'the', 'fresh', 'shrimp', 'cold', 'rolls', 'and', 'their', 'yummy', 'spring', 'rolls', 'filled', 'with', 'taro', 'and', 'pork', 'their', 'pork', 'chop', 'with', 'rice', 'is', 'so', 'good', 'and', 'flavourful', 'and', 'comes', 'with', 'leek', 'soup', 'i', 'usually', 'get', 'the', 'specialty', 'soup', 'called', 'bun', 'bo', 'hue', 'i', 'usually', 'asked', 'for', 'slices', 'of', 'beef', 'only', 'this', 'soup', 'comes', 'with', 'pigs', 'blood', 'and', 'pigs', 'feet', 'which', \"i'm\", 'not', 'crazy', 'about', 'my', 'daughters', 'love', 'their', 'beef', 'balls', 'noodle', 'soup', 'their', 'vermicelli', 'set', 'where', 'you', 'wrap', 'the', 'rice', 'rolls', 'yourself', 'is', 'also', 'quite', 'good', 'never', 'had', 'a', 'bad', 'experience', 'and', 'really', 'love', 'this', 'place']\n",
      " \n",
      "['our', 'go-to', 'place', 'for', 'vietnamese', 'food', 'this', 'place', 'is', 'no', 'frills_not', 'but_not', 'cranks_not', 'out_not', 'authentic_not', 'spring_not', 'rolls_not', 'pho_not', 'rice_not', 'dishes_not', 'and_not', 'vermicelli_not', 'service', 'is', 'friendly', 'enough', 'and', 'fast', 'i', 'always', 'order', 'deep', 'fried', 'spring', 'rolls', 'and', 'pho', 'chicken', 'broth', 'with', 'bbq', 'pork', 'now', 'the', 'key', 'to', 'a', 'delicious', 'pho', 'is', 'to', 'season', 'it', 'properly', 'the', 'bbq', 'pork', 'comes', 'on', 'a', 'side', 'plate', 'so', 'dump', 'that', 'in', 'right', 'away', 'along', 'with', 'the', 'bean', 'sprouts', 'and', 'those', 'beautiful', 'fresh', 'thai', 'basil', 'leaves', 'squeeze', 'the', 'juice', 'of', 'a', 'lime', 'wedge', 'or', 'two', 'in', 'add', 'a', 'touch', 'of', 'soy', 'sauce', 'hoisin', 'sauce', 'sriracha', 'and', 'chilies', 'perfect']\n",
      " \n",
      "['i', 'honestly', 'think', 'that', 'anyone', 'would', 'enjoy', 'food', 'at', 'mi', \"mi's\", \"it's\", 'just', 'that', 'good', 'but', 'if_not', 'you_not', 'are_not', 'a_not', 'fan_not', 'of_not', 'healthy_not', 'light_not', 'food_not', 'this_not', 'is_not', 'a_not', 'perfect_not', 'place_not', 'for_not', 'you_not', 'food', 'is', 'flavorful', 'ingredients', 'are', 'fresh', 'and', 'you', 'will', 'get', 'more', 'than', 'enough', 'food', 'for', 'a', 'good', 'price', 'i', 'love', 'going', 'there', 'with', 'friends', 'and', 'order', 'fresh', 'rolls', 'which', 'you', 'get', 'to', 'make', 'on', 'your', 'own', 'makes', 'the', 'experience', 'more', 'fun', 'personal', 'favourite', 'avocado', 'smoothie']\n",
      " \n",
      "['good', 'day', 'to', 'all', 'reading', 'my', 'review', 'of', \"mimi's\", 'thai', 'restaurant', 'located', 'on', 'gerrard', 'street', 'this', 'restaurant', 'is', 'a', 'hidden', 'gem', 'waiting', 'to', 'be', 'discovered', 'from', 'the', 'moment', 'we', 'arrived', 'we', 'felt', 'like', 'we', 'were', 'in', 'the', 'four', \"season's\", 'hotel', 'it', 'was', 'incredible', 'the', 'proprietor', 'took', 'care', 'of', 'us', 'with', 'silk', 'gloves', 'on', 'she', 'was', 'that', 'smooth', 'of', 'a', 'restauranteur', 'the', 'menu', 'is', 'quite', 'extensive', 'and', 'is', 'available', 'online', 'if', 'one', 'wishes', 'to', 'peruse', 'the', 'menu', 'before', 'arriving', 'the', 'pho', 'was', 'so', 'plentiful', 'tasty', 'and', 'hardy', 'it', 'was', 'bursting', 'with', 'different', 'layers', 'of', 'flavour', 'and', 'textures', 'the', 'accompanying', 'garnishes', 'personalize', 'your', 'pho', 'to', 'your', 'liking', 'the', 'cold', 'shrimp', 'rolls', 'were', 'exquisite', 'and', 'stuffed', 'so', 'full', 'of', 'wonderful', 'ingredients', 'and', 'flavours', 'the', 'accompanying', 'dipping', 'sauce', 'was', 'the', 'perfect', 'foil', 'for', 'the', 'roll', 'the', 'restaurant', 'was', 'clean', 'organized', 'and', 'very', 'well', 'managed', 'if', 'you', 'are', 'looking', 'for', 'a', 'culinary', 'feast', \"mimi's\", 'is', 'the', 'only', 'place', 'to', 'go', 'they', 'certainly', 'know', 'how', 'to', 'deliver', 'manga', 'manga']\n",
      " \n",
      "['the', 'bun', 'and', 'fish', 'sauce', 'were', 'awesome', 'the', 'pho', 'beef', 'did', 'not', 'disappoint_not', 'flavours', 'smells', 'all', 'authentic', 'prepared', 'fresh', 'onsite', 'ladies', 'were', 'friendly', 'informal', 'and', 'no-nonsense', 'atmosphere', 'go', 'here', 'if', \"you're\", 'craving', 'proper', 'viet', 'food']\n",
      " \n",
      "['nice', 'service', 'ordered', 'vermicelli', 'grilled', 'pork', 'everything', 'is', 'good', 'except', 'the', 'pork', 'it', 'was', 'kind', 'of', 'dry']\n",
      " \n",
      "['best', 'bbq', 'chicken', 'and', 'pork', 'on', 'rice', 'and', 'nice', 'service', 'just', 'a', 'little', 'slow', 'though', '...']\n",
      " \n",
      "['ordered', 'a', 'rice', 'dish', 'the', 'bbq', 'pork', 'chop', 'and', 'boneless', 'chicken', 'thigh', 'also', 'added', 'an', 'egg', 'it', 'was', 'a', 'bit', 'pricey', 'coming', 'in', 'at', 'over', '13', 'before', 'tax', 'and', 'tips', 'but', 'the_not', 'portions_not', 'were_not', 'big_not', 'also', 'comes', 'with', 'a', 'bowl', 'of', 'soup', 'which', 'is', 'a', 'nice', 'unexpected', 'gesture', 'food', 'was', 'a', 'bit', 'slower', 'to', 'arrive', 'than', 'other', 'pho', 'places', 'but', 'it_not', 'didn_not', 'disappoint_not', \"i'd\", 'definitely', 'come', 'back', 'to', 'try', 'out', 'some', 'other', 'stuff', 'they', 'have']\n",
      " \n",
      "['im', 'torn', 'about', 'this', 'place', \"i've\", 'been', 'a', 'few', 'times', 'and', 'have', 'enjoyed', 'their', 'pho', 'and', 'other', 'times', \"it's\", 'a', 'tad', 'bland', 'i', 'like', 'they', 'have', 'various', 'size', 'for', 'pho', 'as', 'some', 'other', 'places', 'only', 'have', '1', 'size', 'but', 'what_not', 'is_not', 'consistant_not', 'and_not', 'soooo_not', 'addictive_not', 'is_not', 'their_not', 'assorted_not', 'mixed_not', 'meat_not', 'fresh_not', 'rolls_not', 'you', 'get', 'a', 'huge', 'platter', 'of', 'meat', 'where', 'you', 'roll', 'yourself', \"it's\", 'awesome', 'and', 'highly', 'addictive', 'i', 'love', 'it', 'sooooo', 'much', 'their', 'service', 'is', 'always', 'kind', 'and', 'warming', '...', 'i', 'just', 'had', 'a', 'couple', 'of', 'experience', 'where', 'the', 'broth', 'is', 'a', 'touch', 'bland', 'but', 'of', 'course', 'i', 'keep', 'coming', 'back', 'so', 'the', 'food', 'is', 'of', 'good', 'quality']\n",
      " \n",
      "['typical', 'asian', 'fare', 'good', 'price', 'fair', 'service', 'but', 'really_not', 'lacking_not', 'in_not', 'making_not', 'it_not', 'a_not', 'great_not', 'place_not', 'the', 'poor', 'fish', 'in', 'the', 'tank', 'look', 'abused', 'they', 'are', 'not', 'given_not', 'enough_not', 'room_not', 'to_not', 'move_not', 'around_not', 'and_not', 'it_not', 'made_not', 'me_not', 'sad_not', 'while_not', 'i_not', 'ate_not', ':(']\n",
      " \n",
      "['service', 'is', 'the', 'best', 'part', 'of', 'this', 'place', 'nice', 'friendly', 'and', 'attentive', 'cha', 'gio', 'are', 'home', 'made', 'but', 'not_not', 'fabulous_not', 'pho', 'is', 'too', 'bland', 'to', 'my', 'taste', 'and', 'meat', 'not', 'a_not', 'first_not', 'choice_not', 'perhaps', 'this', 'place', 'is', 'better', 'for', 'bun', 'and', 'do-it-yourself', 'plate', 'combos', 'i', 'can', 'continue', 'to', 'look', 'for', 'the', 'best', 'pho', 'in', 'toronto']\n",
      " \n",
      "['bomb', 'food', 'yo', 'so', 'good', 'that', 'i', \"didn't\", 'even_not', 'complain_not', 'a_not', 'bit_not', 'so', 'bomb', 'so', 'good', 'very', 'cool', 'very', 'tasty', 'i', 'like', 'it']\n",
      " \n",
      "['the', 'best', 'pho', \"i've\", 'had', 'in', 'the', 'city', 'my', 'family', 'loves', 'this', 'place', 'and', 'we', 'take', 'pretty', 'much', 'all', 'of', 'our', 'visitors', 'here', 'for', 'dinner', 'when', 'they', 'stay', 'with', 'us', 'the', 'staff', 'are', 'very', 'pleasant', 'and', 'the', 'food', 'is', 'always', 'great', 'since', 'we', 'found', 'this', 'spot', 'we', \"haven't\", 'gone_not', 'anywhere_not', 'else_not', 'for_not', 'pho_not', 'other', 'than', 'lunch', 'time', 'take', 'out', 'near', 'my', 'office', 'the', 'spring', 'rolls', 'are', 'not', 'to_not', 'be_not', 'missed_not']\n",
      " \n",
      "['everyone', 'tells', 'me', 'how', 'much', 'they', 'love', 'mi', 'mi', 'i', 'loved', 'how', 'close', 'it', 'was', 'to', 'my', 'house', 'what', 'i', \"didn't\", 'love_not', 'was_not', 'the_not', 'pho_not', 'the', 'good', \"it's\", 'close', 'to', 'my', 'house', 'the', 'servers', 'speak', 'perfect', 'english', 'it', 'was', 'pretty', 'fast', 'it', 'was', 'packed', 'which', 'like', 'neil', 'should', 'have', 'been', 'a', 'warning', 'sign', 'the', 'bad', 'the', 'beef', 'in', 'my', 'pho', 'was', 'sketchy', 'looking', 'and', 'fattier', 'than', 'rare', 'beef', 'at', 'the', 'other', 'pho', 'places', 'the', 'broth', \"wasn't\", 'as', 'translucent', 'as', 'other', 'places', 'it', 'was', 'cloudy', 'i', 'expected', 'the', 'cloud', 'was', 'beef', 'bits', 'that', 'would', 'impart', 'a', 'more', 'robust', 'flavour', 'but', '...', 'i', 'was', 'let', 'down', 'my', 'can', 'of', 'pop', 'was', 'over', '1', 'which', 'i', 'never', 'think', 'is', 'right', 'at', 'dumpy', 'places', 'pop', 'should', 'be', '1', 'the', 'end', 'if', 'this', 'was', 'the', 'only', 'pho', 'place', 'in', 'my', 'area', 'i', 'would', 'begrudgingly', 'eat', 'here', 'occasionally', 'but', 'since', 'it', 'is', 'one', 'of', 'about', '10', 'pho', 'places', 'in', 'my', 'area', 'i', 'will', 'never', 'eat', 'here', 'again']\n",
      " \n",
      "['i', 'rate', '2.5', 'stars', 'and', 'have', 'deleted', 'my', 'previous', 'review', 'i', 'believe', 'ownership', 'has', 'changed', 'and', 'quality', 'taste', 'has', 'suffered', 'pho', 'soup', 'base', 'is', 'bland', 'and', 'beef', 'balls', 'did', 'not', 'taste_not', 'fresh_not', 'prices', 'have', 'increased', 'quite', 'a', 'bit', 'bowl', 'of', 'vermicelli', 'is', '8.95', 'whereas', 'i', 'usually', 'pay', 'somewhere', 'in', 'the', '7', 'range', 'for', 'the', 'same', 'dish', 'bun', 'with', 'grilled', 'pork', 'and', 'spring', 'rolls', 'mediocre', 'and', 'would', 'likely', 'not', 'go_not', 'back_not', \"it's\", 'a', 'real', 'shame', 'since', \"i've\", 'been', 'there', 'on', 'a', 'few', 'occasions', 'and', 'considered', 'it', 'the', 'place', 'for', 'pho', 'in', 'east', 'chinatown']\n",
      " \n",
      "['i', 'ordered', 'the', 'combo', 'beef', 'shrimp', 'and', 'spring', 'roll', 'bun', 'and', 'and', 'iced', 'coffee', 'to', 'go', 'and', 'was', 'left', 'feeling', 'pretty', 'disappointed', 'for', '15', 'i', 'got', 'maybe', '2', 'sugarcane', 'shrimp', 'and', '3', 'chewy', 'bits', 'of', 'beef', 'without', 'much', 'flavor', 'i', 'have', 'to', 'agree', 'with', 'the', 'other', 'reviewer', 'that', 'the', 'service', 'is', 'the', 'best', 'part', 'of', 'this', 'place', 'while', 'i', 'waited', 'for', 'my', 'order', 'they', 'gave', 'me', 'some', 'green', 'tea', 'to', 'sip', 'on', 'and', 'my', 'order', 'was', 'ready', 'in', '5-10', 'mins']\n",
      " \n",
      "['if', 'you', 'happen', 'to', 'be', 'in', 'the', 'area', 'and', 'feel', 'like', 'having', 'vietnamese', 'food', 'this', 'is', 'a', 'great', 'spot', 'however', 'i', \"don't\", 'recommend_not', 'going_not', 'out_not', 'of_not', 'your_not', 'way_not', 'just_not', 'to_not', 'eat_not', 'here_not', 'we', 'went', 'on', 'a', 'saturday', 'at', 'around', '2pm', 'and', 'it', 'was', 'a', 'little', 'busy', 'i', 'had', 'the', 'bún', 'with', 'beef', 'sugar', 'shrimp', 'and', 'spring', 'roll', 'for', 'about', '10-12', 'it', 'was', 'delicious']\n",
      " \n",
      "['service', 'and', 'prices', 'are', '5', 'stars', 'vermicelli', 'dishes', 'are', '2', 'stars', 'i', 'have', 'had', 'better', 'dishes', 'elsewhere', 'the', 'spring', 'rolls', 'are', 'not', 'authentic_not', 'vietnamese_not', 'vermicelli', 'is', 'the', 'only', 'thing', \"i've\", 'tried', 'there', 'so', 'i', \"can't\", 'comment_not', 'on_not', 'other_not', 'dishes_not']\n",
      " \n",
      "['the', 'owners', 'here', 'are', 'all', 'very', 'friendly', 'i', 'go', 'to', 'mi', 'mi', 'when', 'i', 'crave', 'porkchop', 'and', 'chicken', 'on', 'rice', 'i', 'usually', 'get', 'them', 'to', 'make', 'me', 'a', 'sunny', 'side', 'up', 'egg', 'as', 'an', 'extra', 'this', 'dish', 'here', 'is', 'one', 'of', 'their', 'better', 'dishes', 'i', 'find', 'that', 'vietnamese', 'restaurants', 'in', 'general', 'usually', 'have', 'a', 'few', 'dishes', 'they', 'are', 'known', 'for', 'whereas', 'everything', 'else', 'is', 'ok', 'their', 'pho', 'and', 'vermicelli', 'dishes', 'are', 'just', 'all', 'ok', 'their', 'rices', 'dishes', 'are', 'better', 'than', 'most', 'other', 'viet', 'places', 'they', 'are', 'also', 'known', 'for', 'their', 'shrimp', 'dumplings', 'in', 'broth', 'with', 'noodles', 'on', 'the', 'side', 'as', 'well', 'everything', 'is', 'preference', 'and', 'this', 'place', 'is', 'above', 'average', 'then', 'most', 'vietnamese', 'restaurant', 'i', 'have', 'been', 'coming', 'here', 'for', 'years', 'and', '95', 'of', 'the', 'time', 'their', 'dishes', 'are', 'quite', 'consistent', 'however', 'there', 'are', 'those', 'odd', 'times', 'where', 'their', 'dishes', 'have', 'been', 'disappointing', 'you', 'cannot', 'rule', 'this', 'place', 'out', 'there', 'is', 'a', 'reason', 'why', 'they', 'are', 'able', 'to', 'charge', 'a', 'little', 'more', 'for', 'their', 'dishes', 'than', 'the', 'other', 'vietnamese', 'restaurants', 'nearby', 'and', 'why', 'they', 'are', 'usually', 'quite', 'busy']\n",
      " \n",
      "['ever', 'since', 'the', 'pho', '88', 'at', 'broadview', 'and', 'gerrard', 'closed', 'down', 'i', \"haven't\", 'had_not', 'a_not', 'goto_not', 'pho_not', 'place_not', 'in_not', 'the_not', 'east_not', 'chinatown_not', 'however', 'i', 'had', 'always', 'heard', 'good', 'things', 'about', 'mimi', 'so', 'after', 'cardio', 'training', 'hill', 'running', 'at', 'the', 'riverdale', 'park', 'about', '6', 'other', 'team', 'members', 'and', 'myself', 'decided', 'to', 'give', 'the', 'pho', 'at', \"mimi's\", 'a', 'try', 'one', 'thing', 'to', 'mention', 'if', 'you', 'have', 'never', 'ordered_not', 'a_not', 'fresh_not', 'fruit_not', 'smoothie_not', 'to_not', 'enjoy_not', 'with_not', 'your_not', 'pho_not', 'you_not', 'are_not', 'missing_not', 'out_not', 'service', 'we', 'came', 'at', 'around', 'lunch', 'hour', 'on', 'a', 'sunday', 'and', 'the', 'restaurant', 'was', 'about', 'half', 'full', '30', 'mins', 'after', 'we', 'arrived', 'we', 'had', 'the', 'most', 'people', 'in', 'our', 'group', 'with', '7', '2', 'people', 'were', 'working', 'as', 'servers', 'one', 'was', 'probably', 'the', 'owner', 'food', 'took', 'significantly', 'longer', 'than', 'the', 'expected', 'for', 'a', 'pho', 'restaurant', 'to', 'come', 'out', 'we', 'had', 'to', 'remind', 'them', 'about', 'our', 'smoothies', 'which', 'came', 'almost', 'after', 'we', 'were', 'finished', 'eating', 'there', 'was', 'probably', 'a', '30', 'minute', 'delay', 'in', 'between', 'the', 'first', 'smoothie', 'and', 'the', 'last', 'smoothie', 'ordered', '7', 'smoothie', 'the', 'mango', 'smoothie', 'was', 'tasty', 'however', 'it', 'tasted', 'like', 'it', 'was', 'made', 'from', 'mango', 'nectar', 'rather', 'than', 'the', 'actual', 'fruit', 'my', 'team', 'member', 'had', 'the', 'avocado', 'and', 'said', 'it', 'was', 'good', 'another', 'team', 'member', 'ordered', 'the', 'jackfruit', 'and', 'said', 'it', 'was', 'terrible', 'with', 'no', 'flavour', 'i', 'had', 'the', 'sour', 'sop', 'and', 'it', 'was', 'alright', 'it', 'would', 'have', 'better', 'if', 'the', 'flavour', 'was', 'stronger', 'sizes', 'sizes', 'at', 'pho', 'restaurants', 'are', 'a', 'hit', 'and', 'miss', 'sometime', 'you', 'get', 'a', 'gigantic', 'bowl', 'for', 'a', 'large', 'and', 'sometimes', 'you', 'get', 'a', 'bowl', 'the', 'size', 'of', 'a', 'small', 'at', 'mi', \"mi's\", 'there', 'is', 'hardly', 'a', 'noticeable', 'difference', 'between', 'the', 'small', 'and', 'the', 'large', 'many', 'of', 'our', 'guys', 'were', 'shocked', 'when', 'the', 'bowls', 'came', 'out', 'in', 'short', 'bowls', 'are', 'small', 'order', 'a', 'larger', 'size', 'pho', 'i', 'tasted', 'the', 'rare', 'beef', 'and', 'beef', 'balls', 'noodle', 'the', 'broth', 'was', 'very', 'clean', 'and', 'tasty', 'not', 'as', 'oily', 'as', 'the', 'soup', 'at', 'train', 'noodles', 'were', 'fresh', 'tasted', 'like', 'what', 'pho', 'should', 'taste', 'like', 'vermicelli', 'with', 'grilled', 'beef', 'and', 'spring', 'rolls', 'bun', 'nothing', 'that', 'stands', 'out', 'here', \"i've\", 'had', 'better', 'elsewhere', 'there', 'was', 'an', 'interesting', 'taste', 'to', 'the', 'spring', 'rolls', 'fish', 'sauce', 'was', 'quite', 'bland', 'unimpressed', 'overall', 'i', 'would', 'come', 'back', 'for', 'the', 'pho', 'or', 'try', 'something', 'else', 'on', 'the', 'menu']\n",
      " \n",
      "['get', 'the', 'rice', 'paper', 'roll', 'platters', 'for', '13', \"it's\", 'more', 'than', 'enough', 'food', 'for', 'two', 'the', 'pho', 'is', 'pretty', 'good', 'here', 'too', 'but', 'sometimes_not', 'the_not', 'broth_not', 'can_not', 'be_not', 'a_not', 'little_not', 'too_not', 'salty_not', 'coming', 'from', 'pho-less', 'parliament', 'st', 'though', 'really', 'cannot', 'complain', 'too', 'much']\n",
      " \n",
      "['the', 'food', 'was', 'good', 'decent', 'the', 'low', 'review', 'is', 'for', 'the', 'lack', 'of', 'signage', 'in', 'front', 'that', 'this', 'is', 'cash', 'only', \"it's\", '2017', 'if', 'you', \"don't\", 'have_not', 'debit_not', 'you_not', 'are_not', 'both_not', 'lazy_not', 'and_not', 'most_not', 'likely_not', 'particular', 'about', 'what', 'gets', 'claimed', 'at', 'the', 'end', 'of', 'the', 'year', '...', 'when', 'i', 'have', 'to', 'walk', 'down', 'the', 'street', 'pay', 'a', 'debit', 'fee', 'and', 'banking', 'fee', 'to', 'get', 'your', 'blessed', 'cash', \"it's\", 'annoying', 'there', 'are', 'a', 'lot', 'of', 'us', 'cashless', 'folks', 'these', 'days', 'get', 'on-board', 'ultimately', 'i', 'would', 'go', 'back', 'to', 'the', 'other', 'pho', 'places', 'in', 'the', 'area', 'easier', 'cheaper', 'plus', 'what', 'is', 'it', 'with', 'vietnamese', 'restaurant', 'daycare', 'wandering', 'toddler', 'switching', 'between', 'crying', 'or', 'hollering', \"ain't\", 'endearing']\n",
      " \n",
      "['ordered', 'biryani', 'for', \"tonight's\", 'supper', 'i', \"wasn't\", 'expecting_not', 'the_not', 'best_not', 'biryani_not', 'because_not', 'of_not', 'the_not', 'location_not', 'i_not', 'need_not', 'a_not', 'hot_not', 'plate_not', 'of_not', 'food_not', 'good_not', 'food_not', \"that's\", 'it', '..', 'biryani', 'was', 'too', 'dry', 'raitha', 'was', 'little', 'sour', 'so', 'ended', 'up', 'ordering', 'a', 'side', 'of', 'butter', 'masala', 'to', 'compensate', 'the', 'dryness', 'in', 'rice', 'which', 'i', 'should', 'have', 'ordered', 'in', 'first', 'place', 'instead', 'of', 'biryani', 'chicken', 'peices', 'in', 'biryani', 'were', 'cold', 'dish', 'not', 'heated_not', 'well_not', 'the', 'three', 'star', 'rating', 'is', 'for', 'service', 'and', 'accommodating', 'my', 'needs', 'not', 'for', 'food']\n",
      " \n",
      "['our', 'first', 'visit', 'in', 'and', 'as', 'we', 'walked', 'in', 'there', 'were', 'three', 'hostess', 'who', 'greeted', 'us', 'as', 'one', 'of', 'the', 'hostesses', 'went', 'to', 'seat', 'us', 'a', 'waitress', 'yelled', 'at', 'the', 'hostess', 'about', 'how', 'she', 'needs', 'to', 'get', 'a', 'table', 'after', 'our', 'hostess', 'sat', 'us', 'the', 'same', 'lady', 'was', 'our', 'waitress', 'she', 'was', 'very', 'aggressive', 'in', 'her', 'tone', 'and', 'called', 'us', 'sweetie', 'she', 'introduced', 'herself', 'as', 'jackie', 'and', 'that', 'she', 'was', 'going', 'to', 'take', 'care', 'of', 'us', 'today', 'sadly', 'i', 'ordered', 'the', 'berry', 'nutty', 'pancakes', 'and', 'my', 'hubby', 'ordered', 'a', 'meat', 'market', 'scrambler', 'wrap', 'the', 'food', 'came', 'out', 'and', 'i', 'was', 'surprised', 'by', 'the', 'portions', 'the', 'sizes', 'were', 'huge', 'the', 'food', 'was', 'the', 'nice', 'family', 'style', 'cooking', 'everyone', 'enjoys', 'after', 'asking', 'jackie', 'for', 'a', 'box', 'three', 'times', 'she', 'finally', 'came', 'with', 'one', 'when', 'i', 'thought', 'she', 'also', 'could', 'not', 'get', 'any', 'worse', 'she', 'tried', 'to', 'cheat', 'us', 'on', 'change', 'back', 'as', 'much', 'as', 'i', 'loved', 'the', 'restaurants', 'scrumptious', 'food', 'i', 'would', 'request', 'any', 'other', 'server', 'then', 'jackie']\n",
      " \n",
      "['great', 'down', 'home', 'atmosphere', 'the', 'best', 'french', 'toast', 'around', 'good', 'coffee', 'not', 'the_not', 'watered_not', 'down_not', 'junk_not', 'always', 'the', 'best', 'place', 'in', 'strongsville', 'for', 'breakfast', 'and', 'brunch']\n",
      " \n",
      "['good', 'location', 'nice', 'menu', 'bad', 'management', 'stuffed', 'french', 'toast', 'not', 'even_not', 'toasted_not', 'on_not', 'the_not', 'inside_not', 'cold_not', 'manager', 'must', 'be', '18', 'and', 'has', 'no', 'training', 'in', 'customer', 'service']\n",
      " \n",
      "['very', 'average', 'breakfast', 'food', 'everything', 'came', 'out', 'quickly', 'but', 'for_not', 'a_not', 'place_not', 'that_not', 'based_not', 'around_not', 'breakfast_not', 'i_not', 'would_not', 'expect_not', 'a_not', 'little_not', 'more_not', 'i', 'had', '3', 'eggs', 'bacon', 'hash', 'browns', 'and', 'wheat', 'toast', 'i', 'ordered', 'the', 'eggs', 'over', 'medium', 'and', 'they', 'were', 'slightly', 'runny', 'bacon', 'ordered', 'crispy', 'and', 'it', 'was', 'slightly', 'chewy', 'hash', 'browns', 'were', 'cooked', 'ok', 'a', 'tad', 'under', 'seasoned', 'and', 'then', 'there', 'was', 'the', 'bread', 'jesus', 'christ', 'it', 'was', 'the', 'size', 'of', 'a', 'phone', 'book', 'coffee', 'was', 'normal', 'weak', 'crappy', 'diner', 'style', 'coffee', 'if', \"you've\", 'ever', 'been', 'to', 'a', 'place', 'where', 'you', 'walked', 'away', 'thinking', 'i', 'could', 'easily', 'make', 'this', 'at', 'home', 'this', 'would', 'be', 'the', 'place', 'for', 'that', '...', 'our', 'server', 'was', 'very', 'nice', 'and', 'attentive', 'on', 'the', 'upside']\n",
      " \n",
      "['i', 'go', 'to', 'this', 'restaurant', 'with', 'my', 'fianc', 'é', 'almost', 'every', 'weekend', 'they', 'have', 'a', 'wide', 'selection', 'of', 'breakfast', 'and', 'lunch', 'foods', 'that', 'are', 'all', 'very', 'appetizing', \"they're\", 'usually', 'very', 'busy', 'but', 'you_not', 'don_not', 'wait_not', 'very_not', 'long_not', 'the', 'staff', 'is', 'extremely', 'friendly', 'every', 'server', 'is', 'courteous', 'fast', 'and', 'attentive', \"it's\", 'a', 'clean', 'and', 'very', 'nice', 'looking', 'place', \"we've\", 'never', 'had_not', 'a_not', 'bad_not', 'experience_not', 'at_not', 'scrambler_not', 'marie_not', 'i', 'highly', 'recommend', 'this', 'restaurant', 'to', 'anybody']\n",
      " \n",
      "['came', 'in', 'expecting', 'more', 'than', 'what', 'we', 'got', 'after', 'we', 'waited', 'in', 'line', 'for', '20', 'minutes', 'i', 'was', 'excited', 'to', 'test', 'out', 'a', 'local', 'breakfast', 'restaurant', 'after', 'having', 'to', 'ask', 'twice', 'for', 'cream', 'for', 'our', 'mediocre', 'coffee', 'and', 'eating', 'nearly', 'cold', 'food', 'i', 'will', 'gladly', 'go', 'back', 'to', 'a', 'proven', 'chain', 'like', 'bob', 'evans', 'food', 'overall', 'was', 'okay', 'but', 'nothing_not', 'to_not', 'make_not', 'me_not', 'want_not', 'to_not', 'come_not', 'back_not']\n",
      " \n",
      "['hey', 'marie', 'we', 'were', 'pleased', 'with', 'breakfast', 'met', 'a', 'friend', 'here', 'while', 'passing', 'through', 'on', 'family', 'vacation', 'wow', 'has', 'strongsville', 'changed', 'in', 'the', 'last', '10-15', 'years', 'we', 'thought', 'the', 'staff', 'was', 'attentive', 'and', 'helpful', 'ryan', 'was', 'bussing', 'tables', 'and', 'took', 'time', 'to', 'say', 'have', 'a', 'nice', 'day', 'as', 'we', 'left', \"marie's\", 'has', 'a', 'large', 'menu', 'plenty', 'of', 'choices', 'pancakes', 'were', 'good', 'and', 'everyone', 'who', 'had', 'an', 'egg', 'dish', 'enjoyed', 'it', 'potatoes', 'were', 'bland', 'on', 'the', 'dry', 'side', 'probably', 'frozen', 'and', 'heated', 'up', 'i', 'would', 'definitely', 'stop', 'here', 'again', 'i', 'think', 'the', 'only', 'negative', 'would', 'be', 'the', 'unwelcome', 'fruit', 'flies', 'at', 'the', 'table', 'i', \"don't\", 'know', 'what', 'it', 'is', 'but', 'the', 'flies', 'always', 'descend', 'on', 'us', 'too', 'sweet', 'maybe']\n",
      " \n",
      "['i', 'love', 'going', 'to', \"scrambler's\", 'aka', 'scrambler', \"marie's\", 'with', 'my', 'family', \"it's\", 'a', 'ste-up', 'from', 'most', 'of', 'the', 'breakfast', 'chains', 'out', 'there', 'and', 'while', 'not', 'as_not', 'cheap_not', 'as_not', 'a_not', 'denny_not', 'or_not', 'ihop_not', 'it_not', 'also_not', 'is_not', 'affordable_not', 'the', 'griddle', 'items', 'are', 'bottomless', 'which', 'suits', 'my', 'addiction', 'to', 'french', 'toast', 'the', 'breakfast', 'potato', 'chunks', 'are', 'heavenly', 'and', 'i', 'love', 'how', 'they', 'bring', 'a', 'carafe', 'of', 'lemon', 'water', 'and', 'your', 'own', 'coffee', 'pot', 'to', 'your', 'table', 'portions', 'are', 'generous', 'and', 'the', 'service', 'is', 'always', 'pleasant', 'regardless', 'of', 'which', 'location', 'i', 'dine', 'at', \"there's\", 'a', 'reason', 'that', 'this', 'place', 'is', 'always', 'busy', 'despite', 'the', 'fact', 'that', 'they', 'are', 'only', 'known', 'for', 'breakfast', 'and', 'lunch', 'give', 'them', 'a', 'shot']\n",
      " \n",
      "['went', 'there', 'over', 'the', 'weekend', 'this', 'was', 'my', '2nd', 'time', 'the', 'first', 'time', 'i', 'was', 'not', 'impressed_not', 'it', 'was', 'the', 'first', 'week', 'they', 'were', 'open', 'i', 'chalked', 'it', 'up', 'to', 'them', 'working', 'out', 'the', 'bugs', 'i', 'decided', 'to', 'try', 'again', 'same', 'results', 'i', 'got', 'the', 'south', 'of', 'the', 'border', 'omelette', 'which', 'was', 'very', 'good', 'and', 'hot', 'however', 'the', 'omelette', 'came', 'with', 'hash', 'browns', 'which', 'were', 'cold', 'also', 'i', 'got', 'the', 'biscuit', 'with', 'my', 'meal', 'which', 'was', 'the', 'worst', 'biscuit', 'i', 'have', 'ever', 'eaten', 'in', 'a', 'restaurant', 'the', 'coffee', 'is', 'average', 'at', 'best', 'i', 'will', 'probably', 'try', 'them', 'again', 'at', 'some', 'point', 'but', 'right', 'now', \"i'm\", 'not', 'that', 'impressed']\n",
      " \n",
      "['a', 'good', 'but', 'pricey_not', 'breakfast_not', \"it's\", 'a', 'clean', 'friendly', 'environment', 'with', 'a', 'pleasant', 'staff', 'bacon', 'is', 'expensive']\n",
      " \n",
      "[\"i've\", 'been', 'here', 'multiple', 'times', 'and', 'i', 'have', 'yet', 'to', 'have', 'a', 'bad', 'experience', 'they', 'have', 'a', 'plethora', 'of', 'standard', 'breakfast', 'items', 'skillets', 'etc', 'if', 'you', \"can't\", 'find_not', 'something_not', 'to_not', 'your_not', 'liking_not', 'on_not', 'the_not', 'menu_not', 'breakfast_not', 'isn_not', 'your_not', 'thing_not']\n",
      " \n",
      "['we', 'have', 'been', 'here', 'several', 'times', 'with', 'our', 'family', 'and', 'the', 'food', 'has', 'consistently', 'been', 'very', 'good', 'we', 'have', 'had', 'exceptional', 'service', 'all', 'except', 'for', 'on', 'one', 'occasion', 'we', 'had', 'a', 'younger', 'female', 'server', 'that', 'treated', 'us', 'like', 'we', 'were', 'a', 'great', 'inconvenience', 'to', 'her', 'she', 'had', 'some', 'type', 'of', 'attitude', 'issue', 'and', 'we', 'could', 'hear', 'her', 'complaining', 'about', 'the', 'other', 'people', 'she', 'worked', 'with', 'in', 'the', 'dining', 'room', 'in', 'front', 'of', 'a', 'packed', 'restaurant', 'had', 'this', 'been', 'the', 'first', 'time', 'we', 'had', 'ever', 'been', 'there', 'i', 'probably', \"wouldn't\", 'have_not', 'gone_not', 'back_not', 'the', 'other', 'times', 'we', 'attended', 'this', 'restaurant', 'the', 'service', 'was', 'absolutely', 'fabulous', 'and', 'we', 'were', 'handled', 'with', 'experienced', 'servers', 'overall', 'a', 'good', 'experience', 'at', 'a', 'restaurant', 'strongsville', 'desperately', 'needed']\n",
      " \n",
      "['this', 'place', 'is', 'awesome', 'and', 'as', 'a', 'strongsville', 'resident', 'i', 'am', 'pleased', 'to', 'have', 'such', 'an', 'outstanding', 'breakfast', 'and', 'brunch', 'restaurant', 'so', 'close', 'to', 'home', 'this', 'place', 'is', 'just', 'going', 'into', 'their', 'third', 'week', 'of', 'being', 'open', 'and', 'they', 'are', 'doing', 'a', 'wonderful', 'job', 'the', 'food', 'is', 'fantastic', 'and', 'arrived', 'hot', 'and', 'fresh', 'both', 'times', \"i've\", 'been', 'here', 'the', 'service', 'is', 'great', 'and', 'everyone', 'is', 'super', 'friendly', 'i', 'am', 'someone', 'who', 'loves', 'to', 'eat', 'and', 'i', 'am', 'very', 'pleased', 'with', 'their', 'variety', 'of', 'options', 'and', 'their', 'portions', 'keep', 'up', 'the', 'great', 'work', \"you've\", 'definitely', 'earned', 'regular', 'business', 'from', 'myself', 'and', 'my', 'friends']\n",
      " \n",
      "['not', 'the_not', 'best_not', 'experience_not', 'my', 'boyfriend', 'and', 'i', 'thought', 'we', 'would', 'enjoy', 'a', 'nice', 'breakfast', 'on', 'our', 'day', 'off', 'but', 'it_not', 'didn_not', 'start_not', 'out_not', 'very_not', 'well_not', 'i', 'wish', 'i', 'knew', 'the', 'name', 'of', 'the', 'short', 'blond', 'girl', 'that', 'was', 'greeting', 'but', 'unfortunately_not', 'i_not', 'do_not', 'not_not', 'needless', 'to', 'say', 'she', 'was', 'incredibly', 'rude', 'i', 'am', 'a', 'very', 'polite', 'person', 'so', 'i', 'held', 'my', 'tongue', 'but', 'let_not', 'just_not', 'say_not', 'she_not', 'should_not', 'be_not', 'removed_not', 'from_not', 'any_not', 'hostess_not', 'duties_not', 'and_not', 'put_not', 'in_not', 'the_not', 'back_not', 'wash', 'dishes', 'or', 'take', 'out', 'the', 'trash', 'she', 'led', 'the', 'two', 'of', 'us', 'with', 'two', 'menus', 'and', 'two', 'sets', 'of', 'silverware', 'to', 'our', 'table', 'and', 'proceeded', 'to', 'ask', 'my', 'boyfriend', 'what', 'she', 'could', 'get', 'him', 'to', 'drink', '...', 'and', 'then', 'began', 'to', 'walk', 'away', 'are', 'you', 'kidding', 'me', 'and', 'when', 'she', 'realized', 'she', 'had', 'forgotten', 'one', 'of', 'the', 'two', 'people', 'she', 'turned', 'back', 'with', 'no', 'apology', 'and', 'an', 'attitude', 'like', 'it', 'was', 'an', 'inconvenience', 'that', 'i', 'was', 'there', 'not', 'impressed', 'with', 'her', 'attitude', 'a', 'hostess', 'should', 'smile', 'and', 'be', 'polite', '...', 'she', 'did', 'not', 'and', 'was', 'not', 'and', 'to', 'ice', 'her', 'cake', '...', 'if', \"you're\", 'going', 'to', 'be', 'the', 'person', 'everyone', 'sees', 'when', 'they', 'enter', 'the', 'restaurant', 'take', 'a', 'little', 'pride', 'in', 'how', 'you', 'look', 'ugh', 'anyway', 'the', 'food', 'was', 'mediocre', 'and', 'could', 'easily', 'be', 'made', 'just', 'as', 'well', 'if', 'not', 'better', 'in', 'your', 'own', 'kitchen', 'the', 'sausage', 'gravy', 'was', 'not', 'impressive', 'and', 'my', 'over', 'easy', 'eggs', 'were', 'not', 'very', 'well', 'made', 'and', 'quite', 'a', 'bit', 'runny', \"it's\", 'a', 'good', 'thing', 'they', 'give', 'you', 'a', 'carafe', 'of', 'water', 'because', 'the', 'glasses', 'are', 'tiny', 'the', 'only', 'reason', 'that', 'this', 'review', 'is', 'getting', '3', 'stars', 'is', 'because', 'of', 'our', 'waitress', 'adrianna', 'she', 'was', 'very', 'nice', 'and', 'polite', 'perhaps', 'management', 'should', 'ask', 'her', 'to', 'give', 'some', 'lessons', 'to', 'the', 'short', 'sloppy', 'rude', 'blond', 'girl', 'that', 'was', 'pretending', 'to', 'hostess', 'today']\n",
      " \n",
      "[\"i've\", 'been', 'wanting', 'to', 'try', 'this', 'place', 'for', 'a', 'few', 'months', 'because', \"they're\", 'constantly', 'packed', 'boy', 'am', 'i', 'glad', 'i', 'finally', 'did', 'my', 'husband', 'got', 'the', 'sausage', 'gravy', 'and', 'biscuits', 'and', 'they', 'were', 'fantastic', \"he's\", 'a', 'huge', 'fan', 'of', 'sausage', 'gravy', 'but', 'most_not', 'places_not', 'don_not', 'have_not', 'a_not', 'lot_not', 'of_not', 'sausage_not', 'in_not', 'the_not', 'gravy_not', 'this_not', 'place_not', 'was_not', 'not_not', 'like_not', 'most_not', 'places_not', 'he', 'also', 'got', 'a', 'burger', 'because', 'he', \"wasn't\", 'sure_not', 'if_not', 'he_not', 'like_not', 'the_not', 'sausage_not', 'gravy_not', 'and_not', 'that_not', 'was_not', 'also_not', 'spectacular_not', 'fresh', 'and', 'not', 'frozen_not', 'beef_not', 'and_not', 'you_not', 'could_not', 'totally_not', 'tell_not', 'i', 'had', 'eggs', 'sausage', 'potatoes', 'and', 'french', 'toast', 'everything', 'was', 'cooked', 'perfectly', 'i', 'would', 'highly', 'recommend', 'this', 'place', 'i', 'also', 'would', 'highly', 'recommend', 'ross', 'from', 'the', 'south', 'as', 'your', 'server', 'because', 'he', 'was', 'awesome', 'too']\n",
      " \n",
      "['very', 'rude', 'waitress', 'in', 'the', 'strongsville', 'location', \"don't\", 'think_not', 'i_not', 'will_not', 'ever_not', 'go_not', 'back_not', 'due_not', 'to_not', 'her_not', 'behavior_not']\n",
      " \n",
      "['walked', 'in', 'and', 'originally', 'got', 'placed', 'directly', 'in', 'the', 'sun', 'when', 'asked', 'to', 'move', 'we', 'got', 'sat', 'in', 'the', 'sun', 'again', 'because', 'of', 'server', 'area', 'eventually', 'was', 'seated', 'at', 'a', 'table', 'that', 'was', 'enjoyable', 'to', 'eat', 'at', 'ordered', 'a', 'skillet', 'it', 'came', 'out', 'quick', 'but', 'for_not', 'some_not', 'reason_not', 'food_not', 'was_not', 'cold_not', 'seemed', 'pre', 'made', 'service', 'was', 'mediocre', 'and', 'not', 'friendly_not', 'other_not', 'than_not', 'the_not', 'hostess_not', 'food', 'over', 'all', 'was', 'alright', 'need', 'to', 'put', 'customer', 'first']\n",
      " \n",
      "['i', 'want', 'to', 'like', 'it', 'as', 'it', 'does', 'have', 'a', 'first', 'watch', 'vibe', 'and', 'seems', 'clean', 'and', 'professionally', 'decorated', 'as', 'others', 'have', 'mentioned', 'but', 'it_not', 'just_not', 'barely_not', 'ok_not', 'i', 'got', 'the', 'american', 'breakfast', 'scrambled', 'with', 'the', 'chunked', 'potatoes', 'eggs', 'were', 'good', 'toast', 'was', 'about', '3', 'inches', 'thick', 'and', 'required', 'a', 'considerably', 'higher', 'fake', 'butter', 'to', 'bread', 'ratio', 'than', 'was', 'provided', 'to', 'be', 'edible', 'the', 'turkey', 'sausage', 'was', 'the', 'frozen', 'institutional', 'variety', 'and', 'the', \"potato's\", 'were', 'easily', 'made', 'last', 'week', 'and', 'reheated', 'each', 'consecutive', 'day', 'in', 'anticipation', 'of', 'my', 'arrival', 'service', 'was', 'prompt', 'but', 'not', 'all', 'that', 'friendly', 'as', 'he', 'seemed', 'to', 'be', 'doing', 'all', 'the', 'jobs', 'from', 'seating', 'serving', 'bussing', 'tables', 'and', 'running', 'by', 'the', 'register', 'pass', 'on', 'this', 'chain', 'unless', 'your', 'ok', 'with', 'just', 'ok']\n",
      " \n",
      "['strongsville', 'really', 'needed', 'a', 'good', 'breakfast', 'spot', 'and', 'scrambler', \"marie's\", 'hit', 'a', 'bullseye', 'came', 'in', 'on', 'a', 'sunday', 'morning', 'at', '8:', '00', 'just', '4', 'days', 'after', 'they', 'opened', 'there', 'was', 'no', 'wait_not', 'and_not', 'only_not', 'a_not', 'few_not', 'tables_not', 'were_not', 'taken_not', 'i', 'was', 'seated', 'promptly', 'and', 'brought', 'water', 'and', 'coffee', 'both', 'came', 'in', 'carafes', 'with', 'a', 'lemon', 'nice', 'touch', 'slice', 'in', 'the', 'water', 'i', 'saw', 'on', 'the', 'menu', 'that', 'their', 'salsa', 'was', 'homemade', 'so', 'i', 'had', 'to', 'try', 'the', 'southwest', 'omelette', 'got', 'it', 'with', 'hash', 'browns', 'crispy', 'and', 'sourdough', 'toast', 'came', 'out', 'of', 'the', 'kitchen', 'in', 'about', '5', 'minutes', 'it', 'was', 'most', 'excellent', 'the', 'salsa', 'did', 'not', 'disappoint', 'with', 'big', 'chunks', 'of', 'tomatoes', 'and', 'spiced', 'nicely', 'matter-in-fact', 'i', 'got', 'so', 'wrapped', 'around', 'the', 'salsa', 'i', 'realized', 'i', \"didn't\", 'have', 'any', 'meat', 'on', 'the', 'side', 'so', 'i', 'asked', 'for', 'a', 'side', 'of', 'bacon', 'had', 'that', 'on', 'the', 'table', 'in', 'less', 'than', '2', 'minutes', 'needless', 'to', 'say', 'the', 'food', 'was', 'great', 'and', 'service', 'was', 'fast', 'coffee', 'was', 'fine', 'but', 'not', 'spectacular', 'i', 'feel', 'like', 'jack', 'reacher', 'when', 'it', 'comes', 'to', 'coffee', 'he', 'would', 'have', 'been', 'satisfied', 'but', 'not', 'thrilled', 'the', 'water', 'on', 'the', 'other', 'hand', 'with', 'the', 'lemon', 'and', 'a', 'carafe', 'full', 'of', 'it', 'on', 'the', 'table', 'was', 'great', 'i', 'was', 'going', 'to', 'sit', 'at', 'my', 'table', 'and', 'type', 'this', 'review', 'but', 'realized', 'a', 'line', 'had', 'formed', 'and', 'people', 'were', 'waiting', 'for', 'tables', '...', 'all', 'within', '30', 'minutes', 'of', 'arriving', 'it', 'may', 'be', 'due', 'to', 'the', 'novelty', 'of', 'the', 'place', 'but', 'to', 'be', 'on', 'the', 'safe', 'side', 'get', 'here', 'before', '8:', '00']\n",
      " \n",
      "[\"i'm\", 'reviewing', 'it', 'on', 'the', 'basis', 'of', 'take-out', 'i', 'love', 'their', 'yellow', 'curry', \"i've\", 'actually', 'only', 'ever', 'ordered', 'take-out', 'but', 'have_not', 'ordered_not', '5_not', 'or_not', '6_not', 'times_not', 'now_not', 'every', 'once', 'in', 'a', 'while', 'i', 'get', 'a', 'hankering', 'for', 'it', 'and', 'have', 'yet', 'to', 'be', 'disappointed', 'i', 'can', 'agree', 'with', 'the', 'other', 'reviews', 'that', 'the', 'decor', 'is', 'not', 'the_not', 'fanciest_not', 'could', 'use', 'some', 'updating', 'in', 'fact', 'i', 'probably', 'would', 'not', 'take_not', 'my_not', 'wife_not', 'here_not', 'to_not', 'try_not', 'thai_not', 'for_not', 'her_not', 'first_not', 'time_not', 'simply_not', 'because_not', 'experience_not', 'is_not', 'important_not', 'however', 'the', 'food', 'is', 'good', 'and', \"that's\", 'what', 'keeps', 'me', 'coming', 'back', \"i'm\", 'a', 'fan']\n",
      " \n",
      "['this', 'place', 'is', 'my', 'neighborhood', 'go', 'to', 'for', 'thai', \"i've\", 'always', 'enjoyed', 'the', 'dinner', 'food', 'over', 'several', 'years', 'both', 'in', 'restaurant', 'and', 'delivery', 'i', 'tried', 'their', 'mango', 'smoothie', 'for', 'the', 'first', 'time', 'the', 'other', 'day', 'and', 'i', 'found', 'a', 'new', 'favorite', 'place', 'for', 'those', 'now', 'too', 'yay']\n",
      " \n",
      "['awful', 'where', 'is', 'the', 'flavor', 'i', 'ordered', 'delivery', 'tonight', 'and', 'got', 'the', 'egg', 'rolls', 'tom', 'kah', 'soup', 'and', 'authentic', 'pad', 'thai', 'every', 'single', 'item', 'lacked', 'any', 'flavor', 'i', 'even', 'asked', 'for', 'the', 'soup', 'to', 'be', 'medium', 'spicy', 'and', 'the', 'pad', 'thai', 'to', 'be', 'medium', 'to', 'hot', 'the', 'pad', 'thai', 'has', 'got', 'to', 'be', 'one', 'of', 'the', 'worst', 'i', 'have', 'ever', 'eaten', 'there', 'is', 'no', 'egg_not', 'no_not', 'tofu_not', 'and_not', 'no_not', 'peanuts_not', 'which_not', 'is_not', 'listed_not', 'as_not', 'included_not', 'on_not', 'the_not', 'menu_not', 'it', 'literally', 'is', 'just', 'greasy', 'noodles', 'with', 'a', 'few', 'pieces', 'of', 'chicken', 'and', 'a', 'wedge', 'of', 'lime', 'terrible', 'i', \"won't\", 'be', 'ordering', 'from', 'this', 'place', 'again', 'do', 'yourself', 'a', 'favor', 'and', 'order', 'from', 'somewhere', 'else']\n",
      " \n",
      "['my', 'fiance', 'and', 'i', 'decided', 'to', 'try', 'this', 'place', 'in', 'tempe', 'because', 'our', 'normal', 'pho', 'place', 'we', 'go', 'to', \"nhat's\", 'off', 'of', 'university', 'rural', 'was', 'closed', 'that', 'day', 'we', 'saw', 'somewhat', 'okay', 'reviews', 'and', 'thought', 'we', 'would', 'judge', 'it', 'for', 'ourselves', 'upon', 'arriving', 'there', 'was', 'no', 'one_not', 'to_not', 'greet_not', 'us_not', 'as_not', 'we_not', 'awkwardly_not', 'stood_not', 'there_not', 'for_not', 'more_not', 'than_not', '5_not', 'minutes_not', 'an', 'older', 'vietnamese', 'lady', 'walked', 'up', 'and', 'offered', 'to', 'seat', 'us', 'the', 'decor', 'was', 'pretty', 'standard', '1980s', 'styled', 'vinyl', 'booths', 'and', 'when', 'she', 'offered', 'to', 'seat', 'us', 'by', 'the', 'window', 'there', 'were', 'full', 'on', 'hornets', 'in', 'the', 'booth', \"i'm\", 'not', 'even', 'kidding', 'they', 'were', 'coming', 'in', 'through', 'the', 'crack', 'in', 'the', 'wall', 'and', 'hovering', 'at', 'the', 'table', 'the', 'lady', 'offered', 'to', 'seat', 'us', 'at', 'we', 'did', 'not', 'feel', 'like', 'getting', 'stung', 'to', 'death', 'while', 'we', 'ate', 'so', 'we', 'sat', 'at', 'another', 'table', 'unfortunately', 'another', 'couple', 'walked', 'in', 'right', 'after', 'us', 'and', 'were', 'immediately', 'sat', 'at', 'the', 'booth', 'of', 'death', 'and', 'for', 'some', 'reason', \"didn't\", 'notice', 'yikes', 'the', 'chicken', 'pho', 'had', 'no', 'flavor', 'and', 'the', 'noodles', 'were', 'just', 'okay', 'i', \"don't\", 'think', 'we', 'will', 'return']\n",
      " \n",
      "['this', 'place', 'sucks', 'twice', 'now', \"i've\", 'gone', 'the', 'first', 'time', 'they', 'put', 'onions', 'in', 'my', 'pad', 'thai', 'who', 'the', 'hell', 'does', 'that', \"doesn't\", 'say_not', 'it_not', 'has_not', 'onions_not', 'on_not', 'the_not', 'menu_not', 'so', 'whatever', \"i'm\", 'over', 'it', 'i', 'go', 'back', 'to', 'give', 'it', 'a', 'second', 'shot', 'i', 'get', 'the', 'panang', 'curry', 'how', 'can', 'you', 'screw', 'that', 'up', 'right', 'i', 'get', 'home', 'and', 'guess', 'what', 'more', 'onions', 'again', \"didn't\", 'say_not', 'it_not', 'had_not', 'onions_not', 'on_not', 'the_not', 'menu_not', 'if', 'you', \"didn't\", 'notice_not', 'i_not', 'hate_not', 'onions_not', 'also', 'i', \"don't\", 'appreciate_not', 'paying_not', '10_not', 'bucks_not', 'for_not', 'a_not', 'meal_not', 'when_not', 'your_not', 'menu_not', 'lies_not', 'about_not', 'what_not', 'in_not', 'it_not', 'screw', 'you', 'papaya', 'thai']\n",
      " \n",
      "['if', 'this', 'was', 'just', 'my', 'own', 'opinion', 'it', 'would', 'be', 'a', '2', 'star', 'my', 'husband', 'convinced', 'me', 'to', 'rate', 'it', 'at', '3', 'stars', \"let's\", 'start', 'with', 'the', 'place', 'was', 'dirty', 'we', 'arrived', 'at', 'precisely', 'opening', 'time', 'only', 'one', 'other', 'customer', 'there', 'so', 'far', 'and', 'yet', 'there', 'were', 'crumbs', 'under', 'the', 'table', 'and', 'splatters', 'on', 'the', 'wall', 'the', 'walls', 'are', 'white', 'you', \"don't\", 'have_not', 'to_not', 'look_not', 'hard_not', 'to_not', 'see_not', 'these_not', 'yellowish_not', 'splatters_not', 'everywhere_not', 'imo', 'a', 'person', 'cleaning', 'would', 'have', 'had', 'to', 'simply', 'ignore', 'them', 'the', 'table', 'plates', 'glasses', 'and', 'cutlery', 'appeared', 'clean', 'though', 'the', 'appetizer', 'was', 'served', 'on', 'a', 'plate', 'covered', 'in', 'aluminum', 'foil', 'so', 'i', 'could', 'not', 'actually', 'see', 'that', 'plate', 'next', 'my', 'beverage', 'i', 'ordered', 'a', 'soda', 'turns', 'out', 'it', 'was', 'flat', 'very', 'flat', 'and', 'so', 'once', 'i', 'got', 'the', 'waitresses', 'attention', 'she', 'just', 'says', 'she', 'thought', 'there', 'might', 'be', 'a', 'problem', 'with', 'it', 'really', 'instead', 'of', 'testing', 'it', 'before', 'bringing', 'it', 'out', 'to', 'a', 'customer', 'she', 'just', 'served', 'questionably', 'flat', 'soda', \"that's\", 'ridiculous', 'on', 'the', 'other', 'hand', 'my', 'husband', 'got', 'lemonade', 'and', 'it', \"wasn't\", 'from', 'powder', 'or', 'anything', 'there', 'was', 'pulp', 'in', 'the', 'glass', 'he', 'liked', 'that', 'a', 'lot', 'appetizer', 'just', 'a', 'simple', 'shrimp', 'tempura', 'there', 'were', '5', 'shrimp', 'for', '5.95', 'and', 'they', 'were', 'small', 'shrimp', 'usually', 'for', 'an', 'order', 'like', 'this', 'you', 'get', 'jumbo', 'shrimp', '...', 'at', 'other', 'places', 'anyway', 'ok', 'so', 'the', 'shrimp', 'tempura', 'i', 'ordered', 'came', 'fried', 'in', 'a', 'breading', 'not', 'in', 'tempura', 'disappointing', 'except', 'for', 'the', 'fact', 'that', 'they', 'were', 'so', 'crispy', 'they', 'made', 'noise', 'when', 'you', 'bit', 'into', 'them', 'and', 'the', 'sauce', 'was', 'damned', 'near', 'the', 'best', 'sweet', 'and', 'sour', 'with', 'a', 'touch', 'of', 'hot', 'sauce', \"i've\", 'ever', 'had', 'in', 'my', 'life', 'my', 'entree', 'was', 'orange', 'chicken', 'the', 'sauce', 'was', 'kind', 'of', 'barbequey-orangey', 'something', 'new', 'for', 'me', 'and', 'it', 'was', 'really', 'good', 'wish', 'there', 'was', 'a', 'better', 'variety', 'of', 'vegetables', 'besides', 'carrots', 'and', 'onions', 'the', 'worst', 'part', 'of', 'the', 'dish', 'was', 'how', 'long', 'it', 'must', 'have', 'sat', 'before', 'it', 'was', 'delivered', 'to', 'my', 'table', 'there', 'were', 'only', '3', 'tables', 'filled', 'at', 'the', 'time', 'so', 'they', 'were', 'not', 'busy', 'my', 'fried', 'chicken', 'was', 'soggy', 'and', 'soggy', 'fried', 'food', 'is', 'gross', 'so', 'i', 'ended', 'up', 'removing', 'the', 'fried', 'bits', 'and', 'just', 'eating', 'the', 'chicken', 'without', 'it', 'my', 'husband', 'ordered', 'pad', 'thai', 'with', 'a', 'spice', 'level', 'of', '4', 'he', 'said', 'the', 'dish', 'was', 'fine', 'except', 'the', 'spice', 'level', 'was', 'really', 'low', 'more', 'like', 'a', '1.5', 'because', 'the', 'place', 'was', 'dirty', 'he', \"didn't\", 'want', 'to', 'add', 'any', 'heat', 'from', 'the', 'table', '...', 'a', 'little', 'too', 'questionable', 'my', 'husband', 'said', 'he', 'would', 'like', 'to', 'eat', 'here', 'again', \"i'll\", 'skip', 'it']\n",
      " \n",
      "[\"i'm\", 'really', 'sad', 'that', 'i', 'had', 'such', 'a', 'bad', 'experience', 'here', 'the', 'waitress', 'really', 'lacked', 'quality', 'and', 'was', 'devoid', 'of', 'personality', 'she', 'had', 'a', 'bad', 'case', 'of', 'rbf', 'we', 'ordered', 'egg', 'rolls', 'which', 'came', 'out', 'quickly', 'but', 'were_not', 'cold_not', 'they', 'tasted', 'fine', 'like', 'freezer', 'or', 'panda', 'express', 'quality', 'the', 'cook', 'forgot', 'to', 'make', 'our', 'fried', 'rice', 'and', 'then', 'made', 'it', 'and', 'it', 'was', 'delivered', 'to', 'our', 'table', 'i', 'ordered', 'a', '3', 'on', 'a', '5', 'scale', 'and', 'it', 'was', 'ridiculously', 'hot', 'to', 'the', 'point', 'that', 'my', 'mouth', 'was', 'burning', 'and', 'my', 'chest', 'was', 'hurting', 'a', 'bit', 'i', 'found', 'it', 'to', 'be', 'strange', 'and', 'thought', 'i', 'just', 'got', 'a', 'bad', 'bite', 'but', 'it', 'was', 'all', 'ridiculously', 'hot', 'and', 'honestly', 'just', 'devoid', 'of', 'all', 'flavor', 'i', 'was', 'not', 'impressed', 'i', 'give', 'this', 'place', 'two', 'stars', 'because', 'the', 'fried', 'banana', 'at', 'the', 'other', 'table', 'did', 'look', 'quite', 'good', 'the', 'other', 'waitress', 'who', 'helped', 'us', 'was', 'very', 'kind', 'at', 'least', 'i', 'feel', 'like', 'this', 'place', 'is', 'incredibly', 'hit', 'or', 'miss', 'unfortunately', 'for', 'us', 'we', 'had', 'a', 'miss']\n",
      " \n",
      "['we', \"won't\", 'be_not', 'going_not', 'back_not', 'to_not', 'this_not', 'place_not', 'the', 'only', 'good', 'part', 'about', 'the', 'experience', 'was', 'the', 'drinks', 'the', 'thai', 'tea', 'is', 'great', 'the', 'food', 'was', 'okay', 'but', 'nothing_not', 'special_not', 'the', 'decor', 'needs', 'a', 'major', 'update', 'and', 'the', 'restaurant', 'could', 'use', 'a', 'good', 'cleaning', 'someone', 'needs', 'to', 'call', 'robert', 'irvine', 'the', 'two', 'things', 'that', 'make', 'this', 'place', 'a', '1', 'star', 'review', 'are', 'the', 'service', 'and', 'the', 'price', 'the', 'service', 'was', 'some', 'of', 'the', 'worst', 'service', 'that', \"i've\", 'ever', 'had', 'in', 'a', 'restaurant', 'we', 'order', 'three', 'entrees', 'and', 'an', 'appetizer', 'after', 'waiting', 'about', '15', 'minutes', 'our', 'first', 'entree', 'arrived', 'somewhere', 'in', 'the', 'next', '5-10', 'minutes', 'our', 'appetizer', 'arrived', 'and', 'then', 'finally', 'about', '5', 'minutes', 'after', 'that', 'the', 'remaining', 'two', 'entrees', 'arrived', 'we', 'finished', 'eating', 'and', 'had', 'some', 'food', 'left', 'over', 'after', 'about', '10', 'minutes', 'of', 'the', 'waitress', 'ignoring', 'our', 'table', 'we', 'decided', 'to', 'stack', 'the', 'dishes', 'in', 'order', 'to', 'get', 'her', 'attention', 'yeah', 'that', \"didn't\", 'work', 'we', 'waited', 'and', 'tried', 'to', 'get', 'her', 'attention', 'and', 'after', 'another', '15', 'minutes', 'we', 'were', 'successful', 'we', 'asked', 'for', 'to', 'go', 'boxes', 'and', 'put', 'our', 'remaining', 'food', 'into', 'the', 'containers', 'after', 'receiving', 'the', 'check', 'i', 'was', 'surprised', 'at', 'how', 'much', 'the', 'bill', 'was', 'for', 'the', 'meal', 'it', 'definitely', 'was', 'not', 'worth', 'the', 'price', 'at', 'this', 'point', 'i', 'just', 'wanted', 'to', 'pay', 'and', 'get', 'out', 'of', 'the', 'place', 'i', 'placed', 'my', 'amex', 'card', 'into', 'the', 'card', 'slot', 'adorned', 'with', 'american', 'express', 'logo', 'next', 'to', 'the', 'statement', 'of', 'them', 'gladly', 'accepting', 'american', 'express', 'to', 'be', 'told', 'by', 'the', 'waitress', 'that', 'they', \"don't\", 'take', 'american', 'express', 'i', \"don't\", 'know', 'if', 'i', 'was', 'more', 'shocked', 'by', 'contradiction', 'in', 'credit', 'card', 'adornment', 'or', 'by', 'the', 'fact', 'that', 'the', 'waitress', 'was', 'actually', 'at', 'our', 'table', 'i', 'paid', 'the', 'bill', 'left', 'a', 'normal', 'tip', 'since', 'the', 'waitress', 'was', 'hovering', 'around', 'cleaning', 'the', 'table', 'as', 'i', 'tried', 'to', 'fill', 'out', 'the', 'bill', 'i', 'then', 'did', 'a', 'balancing', 'trick', 'with', 'our', 'takeout', 'boxes', 'since', 'i', \"wasn't\", 'afforded', 'the', 'luxury', 'of', 'a', 'bag', 'maybe', 'you', 'need', 'to', 'spend', 'more', 'in', 'order', 'to', 'receive', 'a', 'bag', 'and', 'hurried', 'out', 'of', 'the', 'place', 'with', 'my', 'family', 'i', 'was', 'excited', 'to', 'try', 'a', 'new', 'place', 'near', 'our', 'house', 'but', 'sadly', 'the', 'experience', 'was', 'lacking', 'and', 'i', \"won't\", 'be', 'returning', 'hopefully', 'the', 'next', 'place', 'we', 'try', 'will', 'be', 'better']\n",
      " \n",
      "['made', 'a', 'to', 'go', 'order', 'that', 'cost', '37', 'that', 'included', 'the', 'fried', 'duck', 'samurai', 'shrimp', 'and', 'spring', 'rolls', 'the', 'location', 'came', 'from', 'just', 'a', 'couple', 'blocks', 'down', 'from', 'where', 'i', 'live', 'finished', 'a', 'long', 'day', 'of', 'work', 'so', 'wanted', 'to', 'order', 'out', 'took', 'a', 'hour', 'and', 'a', 'half', 'for', 'the', 'delivery', 'person', 'to', 'arrive', 'and', 'i', 'swear', 'to', 'you', 'when', 'i', 'open', 'the', 'treys', 'of', 'food', 'i', 'found', 'there', 'were', 'more', 'veggies', 'than', 'meat', 'i', 'felt', 'like', 'a', 'darn', 'rabbit']\n",
      " \n",
      "['food', 'eh', 'place', 'filthy', 'bland', 'pho', 'i', 'pray', 'the', 'kitchen', 'was', 'cleaner', 'the', 'the', 'actual', 'restaurant', 'will', 'never', 'return_not', 'disgusted']\n",
      " \n",
      "['i', 'am', 'giving', 'this', 'restaurant', 'two', 'stars', 'instead', 'of', 'one', 'because', 'the', 'recipes', 'can', 'be', 'really', 'good', 'and', 'they', 'have', 'large', 'portions', 'i', 'really', 'liked', 'the', 'food', 'at', 'this', 'place', 'but', 'every_not', 'time_not', 'my_not', 'boyfriend_not', 'and_not', 'i_not', 'would_not', 'go_not', 'there_not', 'something_not', 'on_not', 'our_not', 'order_not', 'would_not', 'be_not', 'messed_not', 'up_not', 'it_not', 'was_not', 'incorrect_not', 'burnt_not', 'or_not', 'had_not', 'a_not', 'floating_not', 'hair_not', 'we', 'came', 'here', 'approximately', '1', 'time', 'every', 'other', 'week', 'so', 'it', 'happened', 'a', 'lot', 'the', 'last', 'time', 'my', 'boyfriend', 'and', 'i', 'went', 'there', 'they', 'forgot', 'chicken', 'in', 'my', 'chicken', 'fried', 'rice', 'and', 'we', 'decided', 'that', 'we', 'were', 'never', 'going', 'to', 'go', 'back', 'there', 'because', 'there', 'were', 'a', 'couple', 'other', 'great', 'places', 'just', 'a', 'little', 'bit', 'farther', 'from', 'home', 'today', 'i', 'decided', 'to', 'give', 'them', 'a', 'twentieth', 'chance', 'and', 'i', 'went', 'back', 'there', 'on', 'my', 'own', 'to', 'get', 'pad-se-ew', 'and', 'when', 'i', 'got', 'home', 'i', 'realized', 'that', 'they', 'cooked', 'it', 'without', 'sauce', 'i', \"couldn't\", 'help', 'but', 'laugh', 'but', 'i', 'had', 'to', 'throw', 'it', 'out', 'because', 'pad-se-ew', 'without', 'the', 'sauce', 'ended', 'up', 'being', 'super', 'gross', 'and', 'now', 'i', 'will', 'officially', 'never', 'go', 'there', 'again']\n",
      " \n",
      "[\"i'm\", 'not', 'saying_not', 'the_not', 'food_not', 'is_not', 'bad_not', 'i_not', 'just_not', 'never_not', 'received_not', 'it_not', 'who', 'ever', 'is', 'manning', 'online', 'orders', \"didn't\", 'see_not', 'the_not', 'order_not', 'for_not', 'two_not', 'hours_not', 'so', \"i'm\", 'not', 'giving_not', 'them_not', 'this_not', 'low_not', 'score_not', 'for_not', 'the_not', 'food_not', 'i_not', 'giving_not', 'them_not', 'the_not', 'low_not', 'score_not', 'because_not', 'they_not', 'didn_not', 'pay_not', 'attention_not', 'i', 'was', 'starving', 'waiting', 'for', 'two', 'hours', 'for', 'an', 'order', 'that', 'was', 'never', 'started_not', 'i', 'think', 'that', 'is', 'total', 'bull', 'crap', 'they', 'asked', 'me', 'if', 'i', 'wanted', 'to', 'the', 'order', 'still', 'and', 'it', 'would', 'take', '60', 'minutes', 'for', 'the', 'order', 'they', 'were', 'basically', 'telling', 'me', 'that', 'i', 'have', 'to', 'wait', 'three', 'hours', 'for', 'my', 'food', 'they', 'also', 'said', \"they'd\", 'make', 'it', 'up', 'to', 'me', 'if', 'i', 'ordered', 'again', 'how', 'do', 'i', 'know', 'someone', 'will', 'see', 'it', 'this', 'time', \"i'm\", 'probably', 'not', 'going', 'to', 'order', 'from', 'their', 'again', 'i', 'wound', 'up', 'getting', 'jimmy', 'johns', 'that', 'took', '10', 'minutes', 'from', 'when', 'i', 'submitted', 'my', 'order']\n",
      " \n",
      "['used', 'a', 'groupon', 'today', 'to', 'eat', 'here', 'and', 'they', 'gave', 'tiny', 'portions', 'compared', 'to', 'normal', 'and', 'a', 'sharing', 'charge', 'for', 'one', 'of', 'my', 'little', 'kids', 'food', 'was', 'ok', 'but', 'the_not', 'restaurant_not', 'is_not', 'dirty_not', 'and_not', 'bathroom_not', 'always_not', 'out_not', 'of_not', 'order_not', 'use', 'a', 'groupon', 'at', 'this', 'place', 'as', 'they', 'rip', 'you', 'off', 'on', 'the', 'food', 'portions']\n",
      " \n",
      "['ordered', 'the', 'samurai', 'pad', 'tie', 'vegetable', 'tempura', 'and', 'yellow', 'curry', 'all', 'three', 'are', 'very', 'good', 'this', 'is', 'a', 'solid', 'place', 'if', 'we', 'lived', 'in', 'the', 'delivery', 'area', 'we', 'would', 'order', 'food', 'often']\n",
      " \n",
      "['the', 'owner', 'v', 'does', 'not', 'pay_not', 'employees_not', 'on_not', 'time_not', 'always_not', 'in_not', 'cash_not', 'with_not', 'no_not', 'pay_not', 'stubs_not', 'they', 'have', 'rats', 'in', 'the', 'ceiling', 'and', 'overall', 'dirty']\n",
      " \n",
      "['i', 'would', 'give', 'this', '3', 'stars', 'but', 'i_not', 'really_not', 'couldn_not', 'get_not', 'by_not', 'the_not', 'greasy', 'spoon', 'atmosphere', 'of', 'this', 'place', \"it's\", 'not', 'just_not', 'the_not', 'decor_not', 'the_not', 'longer_not', 'i_not', 'sat_not', 'here_not', 'which', 'was', 'awhile', 'kind', 'of', 'slow', 'service', 'the', 'more', 'i', 'saw', 'how', 'much', 'this', 'joint', 'needs', 'to', 'be', 'cleaned', 'went', 'here', 'on', 'a', 'sunday', 'at', 'opening', 'one', 'waitress', 'and', 'a', 'groupon', 'special', 'going', 'on', 'which', 'i', \"must've\", 'missed', 'out', 'on', 'she', 'was', 'a', 'little', 'frazzled', 'and', 'messed', 'up', 'every', \"table's\", 'order', 'we', 'got', 'vegetable', 'curry', 'vegetable', 'pad', 'thai', 'and', 'tom', 'yum', 'soup', 'the', 'curry', 'was', 'very', 'good', 'but', 'the', 'rice', 'seemed', 'to', 'have', 'been', 'ahem', 'reheated', 'she', 'brought', 'a', 'different', 'pad', 'thai', 'to', 'the', 'table', 'than', 'what', 'was', 'ordered', 'the', 'soup', 'was', 'so-so', 'for', 'the', 'price', 'i', \"wouldn't\", 'order', 'it', 'again', 'everyone', 'around', 'us', 'was', 'sending', 'food', 'back', 'as', 'a', 'carry-out', 'this', 'place', 'would', 'probably', 'rate', 'higher', 'the', 'forks', 'were', 'in', 'a', 'coffee', 'cup', 'on', 'the', 'table', 'the', 'condiments', 'had', 'been', 'sitting', 'out', 'all', 'night', 'and', 'everything', 'in', 'this', 'place', 'needs', 'to', 'be', 'wiped', 'down', 'the', 'kicker', 'came', 'at', 'the', 'end', 'when', 'i', 'asked', 'for', 'a', 'bag', 'for', 'the', 'left', 'overs', '....', 'the', 'waitress', 'stuck', 'her', 'finger', 'in', 'the', 'pitcher', 'of', 'water', 'at', 'the', 'beverage', 'table', 'to', 'separate', 'the', 'plastic', 'bag', 'from', 'the', 'stack', 'carry-out', 'if', 'you', 'eat', 'here']\n",
      " \n",
      "[\"don't\", 'want_not', 'to_not', 'be_not', 'harsh_not', 'to_not', 'these_not', 'compas_not', 'but_not', 'i_not', 'agree_not', 'with_not', 'one_not', 'of_not', 'the_not', 'previous_not', 'reviews_not', 'nice', 'and', 'clean', 'and', 'decent', 'sandwich', 'but', 'with_not', 'a_not', 'low_not', 'value_not', 'price_not', 'ratio_not']\n",
      " \n"
     ]
    }
   ],
   "source": [
    "for review in corpora:\n",
    "    print(review)\n",
    "    print(\" \")"
   ]
  },
  {
   "cell_type": "code",
   "execution_count": null,
   "metadata": {},
   "outputs": [],
   "source": []
  }
 ],
 "metadata": {
  "kernelspec": {
   "display_name": "Python 3",
   "language": "python",
   "name": "python3"
  },
  "language_info": {
   "codemirror_mode": {
    "name": "ipython",
    "version": 3
   },
   "file_extension": ".py",
   "mimetype": "text/x-python",
   "name": "python",
   "nbconvert_exporter": "python",
   "pygments_lexer": "ipython3",
   "version": "3.7.6"
  }
 },
 "nbformat": 4,
 "nbformat_minor": 2
}
